{
 "cells": [
  {
   "cell_type": "markdown",
   "metadata": {},
   "source": [
    "## Imports"
   ]
  },
  {
   "cell_type": "code",
   "execution_count": 22,
   "metadata": {},
   "outputs": [],
   "source": [
    "import numpy as np\n",
    "import os\n",
    "import cv2\n",
    "import matplotlib.pyplot as plt\n",
    "import random\n",
    "from sklearn.model_selection import train_test_split\n",
    "\n",
    "%matplotlib inline\n",
    "\n",
    "np.random.seed(1)"
   ]
  },
  {
   "cell_type": "markdown",
   "metadata": {},
   "source": [
    "## Dataset"
   ]
  },
  {
   "cell_type": "code",
   "execution_count": 23,
   "metadata": {},
   "outputs": [],
   "source": [
    "DATADIR = \"C:/Dataset\""
   ]
  },
  {
   "cell_type": "code",
   "execution_count": 24,
   "metadata": {},
   "outputs": [],
   "source": [
    "CATEGORIES = [\"Lab\", \"Chi\"]\n",
    "img_size = 64"
   ]
  },
  {
   "cell_type": "markdown",
   "metadata": {},
   "source": [
    "### Creating training data"
   ]
  },
  {
   "cell_type": "code",
   "execution_count": 25,
   "metadata": {},
   "outputs": [],
   "source": [
    "training_data=[]\n",
    "\n",
    "def create_training_data():\n",
    "    for category in CATEGORIES:\n",
    "        path = os.path.join(DATADIR, category)\n",
    "        class_num = CATEGORIES.index(category)\n",
    "        for img in os.listdir(path):\n",
    "            img_array = cv2.imread(os.path.join(path, img))\n",
    "            new_array = cv2.resize(img_array,(img_size,img_size))\n",
    "            training_data.append([new_array, class_num])"
   ]
  },
  {
   "cell_type": "code",
   "execution_count": 26,
   "metadata": {},
   "outputs": [
    {
     "name": "stdout",
     "output_type": "stream",
     "text": [
      "646\n"
     ]
    }
   ],
   "source": [
    "create_training_data()\n",
    "print(len(training_data))"
   ]
  },
  {
   "cell_type": "code",
   "execution_count": 27,
   "metadata": {},
   "outputs": [],
   "source": [
    "random.shuffle(training_data)"
   ]
  },
  {
   "cell_type": "markdown",
   "metadata": {},
   "source": [
    "### Seperation of X,y"
   ]
  },
  {
   "cell_type": "code",
   "execution_count": 28,
   "metadata": {},
   "outputs": [],
   "source": [
    "X = []\n",
    "y = []\n",
    "for features, label in training_data:\n",
    "    X.append(features)\n",
    "    y.append(label)"
   ]
  },
  {
   "cell_type": "code",
   "execution_count": 29,
   "metadata": {},
   "outputs": [],
   "source": [
    "X = np.array(X)\n",
    "y = np.array(y)"
   ]
  },
  {
   "cell_type": "code",
   "execution_count": 30,
   "metadata": {},
   "outputs": [
    {
     "name": "stdout",
     "output_type": "stream",
     "text": [
      "Shape of X = (646, 64, 64, 3)\n",
      "Shape of y = (646,)\n"
     ]
    }
   ],
   "source": [
    "print(\"Shape of X = \"+ str(X.shape))\n",
    "print(\"Shape of y = \" + str(y.shape))"
   ]
  },
  {
   "cell_type": "code",
   "execution_count": 31,
   "metadata": {},
   "outputs": [],
   "source": [
    "x_train,x_test,y_train,y_test=train_test_split(X,y,test_size=0.2)"
   ]
  },
  {
   "cell_type": "markdown",
   "metadata": {},
   "source": [
    "**Reshaping y**"
   ]
  },
  {
   "cell_type": "code",
   "execution_count": 32,
   "metadata": {},
   "outputs": [],
   "source": [
    "y_train = y_train.reshape((1, y_train.shape[0]))\n",
    "y_test = y_test.reshape((1, y_test.shape[0]))"
   ]
  },
  {
   "cell_type": "markdown",
   "metadata": {},
   "source": [
    "Example of picture"
   ]
  },
  {
   "cell_type": "code",
   "execution_count": 33,
   "metadata": {},
   "outputs": [
    {
     "name": "stdout",
     "output_type": "stream",
     "text": [
      "y= [1]\n"
     ]
    },
    {
     "data": {
      "image/png": "[encoded data removed]",
      "text/plain": [
       "<Figure size 432x288 with 1 Axes>"
      ]
     },
     "metadata": {
      "needs_background": "light"
     },
     "output_type": "display_data"
    }
   ],
   "source": [
    "index = 99\n",
    "plt.imshow(x_train[index])\n",
    "print(\"y= \"+ str(y_train[:,index]))"
   ]
  },
  {
   "cell_type": "markdown",
   "metadata": {},
   "source": [
    "Explore Dataset"
   ]
  },
  {
   "cell_type": "code",
   "execution_count": 34,
   "metadata": {},
   "outputs": [
    {
     "name": "stdout",
     "output_type": "stream",
     "text": [
      "Number of training examples: m_train = 516\n",
      "Number of testing examples: m_test = 130\n",
      "Height/Width of each image: num_px = 64\n",
      "Each image is of size: (64, 64, 3)\n",
      "train_set_x shape: (516, 64, 64, 3)\n",
      "train_set_y shape: (1, 516)\n",
      "test_set_x shape: (130, 64, 64, 3)\n",
      "test_set_y shape: (1, 130)\n"
     ]
    }
   ],
   "source": [
    "m_train = x_train.shape[0]\n",
    "m_test = x_test.shape[0]\n",
    "num_px = x_train.shape[1]\n",
    "\n",
    "print (\"Number of training examples: m_train = \" + str(m_train))\n",
    "print (\"Number of testing examples: m_test = \" + str(m_test))\n",
    "print (\"Height/Width of each image: num_px = \" + str(num_px))\n",
    "print (\"Each image is of size: (\" + str(num_px) + \", \" + str(num_px) + \", 3)\")\n",
    "print (\"train_set_x shape: \" + str(x_train.shape))\n",
    "print (\"train_set_y shape: \" + str(y_train.shape))\n",
    "print (\"test_set_x shape: \" + str(x_test.shape))\n",
    "print (\"test_set_y shape: \" + str(y_test.shape))"
   ]
  },
  {
   "cell_type": "markdown",
   "metadata": {},
   "source": [
    "Reshaping Training and Test examples"
   ]
  },
  {
   "cell_type": "code",
   "execution_count": 35,
   "metadata": {},
   "outputs": [
    {
     "name": "stdout",
     "output_type": "stream",
     "text": [
      "train_set_x_flatten shape: (12288, 516)\n",
      "train_set_y shape: (1, 516)\n",
      "test_set_x_flatten shape: (12288, 130)\n",
      "test_set_y shape: (1, 130)\n",
      "sanity check after reshaping: [ 55  94 123  56  96]\n"
     ]
    }
   ],
   "source": [
    "train_set_x_flatten = x_train.reshape(x_train.shape[0], -1).T\n",
    "test_set_x_flatten = x_test.reshape(x_test.shape[0], -1).T\n",
    "\n",
    "print (\"train_set_x_flatten shape: \" + str(train_set_x_flatten.shape))\n",
    "print (\"train_set_y shape: \" + str(y_train.shape))\n",
    "print (\"test_set_x_flatten shape: \" + str(test_set_x_flatten.shape))\n",
    "print (\"test_set_y shape: \" + str(y_test.shape))\n",
    "print (\"sanity check after reshaping: \" + str(train_set_x_flatten[0:5,0]))"
   ]
  },
  {
   "cell_type": "markdown",
   "metadata": {},
   "source": [
    "Standardizing Dataset"
   ]
  },
  {
   "cell_type": "code",
   "execution_count": 36,
   "metadata": {},
   "outputs": [],
   "source": [
    "train_x = train_set_x_flatten/255.\n",
    "test_x = test_set_x_flatten/255."
   ]
  },
  {
   "cell_type": "markdown",
   "metadata": {},
   "source": [
    "### Helper Functions"
   ]
  },
  {
   "cell_type": "code",
   "execution_count": 37,
   "metadata": {},
   "outputs": [],
   "source": [
    "def sigmoid(Z):\n",
    "    A = 1/(1+np.exp(-Z))\n",
    "    cache = Z\n",
    "    \n",
    "    return A,cache"
   ]
  },
  {
   "cell_type": "code",
   "execution_count": 38,
   "metadata": {},
   "outputs": [],
   "source": [
    "def relu(Z):\n",
    "    A = np.maximum(0,Z)\n",
    "    \n",
    "    assert(A.shape == Z.shape)\n",
    "    cache = Z\n",
    "    return A,cache"
   ]
  },
  {
   "cell_type": "code",
   "execution_count": 39,
   "metadata": {},
   "outputs": [],
   "source": [
    "def sigmoid_backward(dA, cache):\n",
    "    Z = cache\n",
    "    s = 1/(1+np.exp(-Z))\n",
    "    dZ = dA * s * (1-s)\n",
    "    \n",
    "    assert(dZ.shape == Z.shape)\n",
    "    return dZ"
   ]
  },
  {
   "cell_type": "code",
   "execution_count": 40,
   "metadata": {},
   "outputs": [],
   "source": [
    "def relu_backward(dA, cache):\n",
    "    Z = cache\n",
    "    dZ = np.array(dA, copy=True)\n",
    "    \n",
    "    dZ[Z <= 0] = 0\n",
    "    \n",
    "    assert(dZ.shape == Z.shape)\n",
    "    return dZ"
   ]
  },
  {
   "cell_type": "markdown",
   "metadata": {},
   "source": [
    "### Initialization"
   ]
  },
  {
   "cell_type": "code",
   "execution_count": 42,
   "metadata": {},
   "outputs": [],
   "source": [
    "def initialize_parameters_deep(layer_dims):\n",
    "    np.random.seed(1)\n",
    "    parameters = {}\n",
    "    L = len(layer_dims)\n",
    "    \n",
    "    for l in range(1,L):\n",
    "        parameters[\"W\" + str(l)] = np.random.randn(layer_dims[l],\n",
    "                                                   layer_dims[l-1])*(np.sqrt(2. / layer_dims[l-1]))\n",
    "        \n",
    "        parameters[\"b\" + str(l)] = np.zeros((layer_dims[l],1))\n",
    "        \n",
    "        assert(parameters['W' + str(l)].shape == (layer_dims[l],\n",
    "                                                  layer_dims[l-1]))\n",
    "        assert(parameters['b' + str(l)].shape == (layer_dims[l], 1))\n",
    "    return parameters"
   ]
  },
  {
   "cell_type": "markdown",
   "metadata": {},
   "source": [
    "### Forward Prop"
   ]
  },
  {
   "cell_type": "code",
   "execution_count": 43,
   "metadata": {},
   "outputs": [],
   "source": [
    "def linear_forward(A, W, b):\n",
    "    Z = np.dot(W,A)+b\n",
    "    assert(Z.shape == (W.shape[0], A.shape[1]))\n",
    "    cache = (A, W, b)\n",
    "    \n",
    "    return Z, cache"
   ]
  },
  {
   "cell_type": "code",
   "execution_count": 44,
   "metadata": {},
   "outputs": [],
   "source": [
    "def linear_activation_forward(A_prev, W, b, activation):\n",
    "    if activation == \"sigmoid\":\n",
    "        # Inputs: \"A_prev, W, b\". Outputs: \"A, activation_cache\"\n",
    "        Z, linear_cache = linear_forward(A_prev, W, b)\n",
    "        A, activation_cache = sigmoid(Z)\n",
    "    \n",
    "    elif activation == \"relu\":\n",
    "        # Inputs: \"A_prev, W, b\". Outputs: \"A, activation_cache\"\n",
    "        Z, linear_cache = linear_forward(A_prev, W, b)\n",
    "        A, activation_cache = relu(Z)\n",
    "    \n",
    "    assert (A.shape == (W.shape[0], A_prev.shape[1]))\n",
    "    cache = (linear_cache, activation_cache)\n",
    "\n",
    "    return A, cache"
   ]
  },
  {
   "cell_type": "code",
   "execution_count": 45,
   "metadata": {},
   "outputs": [],
   "source": [
    "def L_model_forward(X, parameters):\n",
    "    caches = []\n",
    "    A = X\n",
    "    L = len(parameters) // 2    # number of layers in the neural network\n",
    "    \n",
    "    # Implement [LINEAR -> RELU]*(L-1). Add \"cache\" to the \"caches\" list.\n",
    "    for l in range(1, L):\n",
    "        A_prev = A \n",
    "        A, cache = linear_activation_forward(A_prev, parameters['W'+ str(l)],\n",
    "                                             parameters['b'+ str(l)],\n",
    "                                             activation = \"relu\")\n",
    "        caches.append(cache)\n",
    "    \n",
    "    # Implement LINEAR -> SIGMOID. Add \"cache\" to the \"caches\" list.\n",
    "    AL, cache = linear_activation_forward(A, parameters['W' + str(L)],\n",
    "                                          parameters['b' + str(L)],\n",
    "                                          activation= \"sigmoid\")\n",
    "    caches.append(cache)\n",
    "    \n",
    "    assert(AL.shape == (1,X.shape[1]))\n",
    "            \n",
    "    return AL, caches"
   ]
  },
  {
   "cell_type": "markdown",
   "metadata": {},
   "source": [
    "### Cost Function\n",
    "\n",
    "$$-\\frac{1}{m} \\sum\\limits_{i = 1}^{m} (y^{(i)}\\log\\left(a^{[L] (i)}\\right) + (1-y^{(i)})\\log\\left(1- a^{[L](i)}\\right)) \\tag{7}$$"
   ]
  },
  {
   "cell_type": "code",
   "execution_count": 46,
   "metadata": {},
   "outputs": [],
   "source": [
    "def compute_cost(AL, Y):\n",
    "    m = Y.shape[1]\n",
    "\n",
    "    cost = -(1/m) * np.sum(np.multiply(np.log(AL),Y) + \n",
    "                           np.multiply(np.log(1-AL),1-Y))\n",
    "    \n",
    "    cost = np.squeeze(cost)\n",
    "    assert(cost.shape == ())\n",
    "    \n",
    "    return cost"
   ]
  },
  {
   "cell_type": "markdown",
   "metadata": {},
   "source": [
    "### Backward Prop\n",
    "\n",
    "#### Linear back prop"
   ]
  },
  {
   "cell_type": "code",
   "execution_count": 47,
   "metadata": {},
   "outputs": [],
   "source": [
    "def linear_backward(dZ, cache, keep_prob = 0.4):\n",
    "    A_prev, W, b = cache\n",
    "    m = A_prev.shape[1]\n",
    "    \n",
    "    D = np.random.rand(A_prev.shape[0], A_prev.shape[1])\n",
    "    D = (D < keep_prob).astype(int)\n",
    "\n",
    "    dW = (1/m) * np.dot(dZ,A_prev.T) \n",
    "    db = (1/m) * np.sum(dZ, axis=1, keepdims=True)\n",
    "    dA_prev = np.dot(W.T, dZ) * D\n",
    "    dA_prev = dA_prev/keep_prob\n",
    "    \n",
    "    assert (dA_prev.shape == A_prev.shape)\n",
    "    assert (dW.shape == W.shape)\n",
    "    assert (db.shape == b.shape)\n",
    "    \n",
    "    return dA_prev, dW, db"
   ]
  },
  {
   "cell_type": "code",
   "execution_count": 48,
   "metadata": {},
   "outputs": [],
   "source": [
    "def linear_activation_backward(dA, cache, activation):\n",
    "    linear_cache, activation_cache = cache\n",
    "    \n",
    "    if activation == \"relu\":\n",
    "        dZ = relu_backward(dA,activation_cache)\n",
    "        dA_prev, dW, db = linear_backward(dZ,linear_cache, keep_prob = 0.4)\n",
    "        \n",
    "    elif activation == \"sigmoid\":\n",
    "        dZ = sigmoid_backward(dA,activation_cache)\n",
    "        dA_prev, dW, db = linear_backward(dZ,linear_cache,keep_prob = 0.4)\n",
    "    \n",
    "    return dA_prev, dW, db"
   ]
  },
  {
   "cell_type": "markdown",
   "metadata": {},
   "source": [
    "### Update Parameters"
   ]
  },
  {
   "cell_type": "code",
   "execution_count": 49,
   "metadata": {},
   "outputs": [],
   "source": [
    "def update_parameters(parameters, grads, learning_rate):\n",
    "    L = len(parameters) // 2 # number of layers in the neural network\n",
    "\n",
    "    for l in range(L):\n",
    "        parameters[\"W\" + str(l+1)] = parameters[\"W\"+ str(l+1)] - learning_rate*grads[\"dW\" + str(l+1)]\n",
    "        parameters[\"b\" + str(l+1)] = parameters[\"b\" + str(l+1)] - learning_rate*grads[\"db\" + str(l+1)]\n",
    "    return parameters"
   ]
  },
  {
   "cell_type": "markdown",
   "metadata": {},
   "source": [
    "### Predict"
   ]
  },
  {
   "cell_type": "code",
   "execution_count": 50,
   "metadata": {},
   "outputs": [],
   "source": [
    "def predict(X, y, parameters):\n",
    "    m = X.shape[1]\n",
    "    n = len(parameters) // 2 # number of layers in the neural network\n",
    "    p = np.zeros((1,m))\n",
    "    \n",
    "    # Forward propagation\n",
    "    probas, caches = L_model_forward(X, parameters)\n",
    "    \n",
    "    # convert probas to 0/1 predictions\n",
    "    for i in range(0, probas.shape[1]):\n",
    "        if probas[0,i] > 0.5:\n",
    "            p[0,i] = 1\n",
    "        else:\n",
    "            p[0,i] = 0\n",
    "    \n",
    "    #print results\n",
    "    #print (\"predictions: \" + str(p))\n",
    "    #print (\"true labels: \" + str(y))\n",
    "    print(\"Accuracy: \"  + str(np.sum((p == y)/m)))\n",
    "        \n",
    "    return p"
   ]
  },
  {
   "cell_type": "markdown",
   "metadata": {},
   "source": [
    "## Deep NN\n",
    "\n",
    "### L-Model Backward"
   ]
  },
  {
   "cell_type": "code",
   "execution_count": 51,
   "metadata": {},
   "outputs": [],
   "source": [
    "def L_model_backward(AL, Y, caches):\n",
    "    grads = {}\n",
    "    L = len(caches) # the number of layers\n",
    "    m = AL.shape[1]\n",
    "    Y = Y.reshape(AL.shape) # after this line, Y is the same shape as AL\n",
    "    \n",
    "    # Initializing the backpropagation\n",
    "    dAL = - (np.divide(Y, AL) - np.divide(1 - Y, 1 - AL))\n",
    "    # Lth layer (SIGMOID -> LINEAR) gradients.\n",
    "    current_cache = caches[L-1]\n",
    "    grads[\"dA\" + str(L-1)], grads[\"dW\" + str(L)], grads[\"db\" + str(L)] = linear_activation_backward(dAL, current_cache, activation = \"sigmoid\")\n",
    "\n",
    "    \n",
    "    # Loop from l=L-2 to l=0\n",
    "    for l in reversed(range(L-1)):\n",
    "        # lth layer: (RELU -> LINEAR) gradients.\n",
    "        current_cache = caches[l]\n",
    "        dA_prev_temp, dW_temp, db_temp = linear_activation_backward(grads[\"dA\" + str(l + 1)],\n",
    "                                   current_cache, activation = \"relu\")\n",
    "        grads[\"dA\" + str(l)] = dA_prev_temp\n",
    "        grads[\"dW\" + str(l + 1)] = dW_temp \n",
    "        grads[\"db\" + str(l + 1)] = db_temp\n",
    "\n",
    "    return grads"
   ]
  },
  {
   "cell_type": "markdown",
   "metadata": {},
   "source": [
    "### L-Layer NN"
   ]
  },
  {
   "cell_type": "code",
   "execution_count": 52,
   "metadata": {},
   "outputs": [],
   "source": [
    "def L_layer_model(X, Y, layers_dims, learning_rate = 0.002, num_iterations = 5000, print_cost=False):#lr was 0.009\n",
    "    np.random.seed(1)\n",
    "    costs = []                  # keep track of cost\n",
    "    \n",
    "    # Parameters initialization\n",
    "    parameters = initialize_parameters_deep(layers_dims)\n",
    "    \n",
    "    # Loop (gradient descent)\n",
    "    for i in range(0, num_iterations):\n",
    "\n",
    "        # Forward propagation: [LINEAR -> RELU]*(L-1) -> LINEAR -> SIGMOID\n",
    "        AL, caches = L_model_forward(X, parameters)\n",
    "        \n",
    "        # Compute cost\n",
    "        cost = compute_cost(AL, Y)\n",
    "    \n",
    "        # Backward propagation\n",
    "        grads = L_model_backward(AL, Y, caches)\n",
    " \n",
    "        # Update parameters\n",
    "        parameters = update_parameters(parameters, grads, learning_rate)\n",
    "                \n",
    "        if print_cost and i % 10 == 0:\n",
    "            print (\"Cost after iteration %i: %f\" %(i, cost))\n",
    "        if print_cost and i % 10 == 0:\n",
    "            costs.append(cost)\n",
    "            \n",
    "    # plot the cost\n",
    "    plt.plot(np.squeeze(costs))\n",
    "    plt.ylabel('cost')\n",
    "    plt.xlabel('iterations (per hundreds)')\n",
    "    plt.title(\"Learning rate =\" + str(learning_rate))\n",
    "    plt.show()\n",
    "    \n",
    "    return parameters"
   ]
  },
  {
   "cell_type": "code",
   "execution_count": null,
   "metadata": {},
   "outputs": [
    {
     "name": "stdout",
     "output_type": "stream",
     "text": [
      "Cost after iteration 0: 0.725803\n",
      "Cost after iteration 10: 0.674537\n",
      "Cost after iteration 20: 0.664440\n",
      "Cost after iteration 30: 0.653020\n",
      "Cost after iteration 40: 0.642199\n",
      "Cost after iteration 50: 0.636525\n",
      "Cost after iteration 60: 0.630905\n",
      "Cost after iteration 70: 0.621343\n",
      "Cost after iteration 80: 0.616245\n",
      "Cost after iteration 90: 0.613849\n",
      "Cost after iteration 100: 0.608358\n",
      "Cost after iteration 110: 0.601607\n",
      "Cost after iteration 120: 0.596048\n",
      "Cost after iteration 130: 0.593741\n",
      "Cost after iteration 140: 0.583956\n",
      "Cost after iteration 150: 0.578327\n",
      "Cost after iteration 160: 0.573033\n",
      "Cost after iteration 170: 0.576250\n",
      "Cost after iteration 180: 0.566953\n",
      "Cost after iteration 190: 0.558511\n",
      "Cost after iteration 200: 0.558922\n",
      "Cost after iteration 210: 0.551256\n",
      "Cost after iteration 220: 0.546126\n",
      "Cost after iteration 230: 0.542126\n",
      "Cost after iteration 240: 0.537743\n",
      "Cost after iteration 250: 0.532885\n",
      "Cost after iteration 260: 0.529110\n",
      "Cost after iteration 270: 0.524836\n",
      "Cost after iteration 280: 0.521912\n",
      "Cost after iteration 290: 0.516493\n",
      "Cost after iteration 300: 0.515076\n",
      "Cost after iteration 310: 0.512110\n",
      "Cost after iteration 320: 0.515514\n",
      "Cost after iteration 330: 0.502943\n",
      "Cost after iteration 340: 0.499013\n",
      "Cost after iteration 350: 0.500267\n",
      "Cost after iteration 360: 0.493119\n",
      "Cost after iteration 370: 0.487320\n",
      "Cost after iteration 380: 0.484736\n",
      "Cost after iteration 390: 0.481850\n",
      "Cost after iteration 400: 0.481376\n",
      "Cost after iteration 410: 0.474835\n",
      "Cost after iteration 420: 0.471514\n",
      "Cost after iteration 430: 0.475424\n",
      "Cost after iteration 440: 0.470536\n",
      "Cost after iteration 450: 0.464379\n",
      "Cost after iteration 460: 0.465893\n",
      "Cost after iteration 470: 0.456790\n",
      "Cost after iteration 480: 0.453949\n",
      "Cost after iteration 490: 0.459855\n",
      "Cost after iteration 500: 0.450585\n",
      "Cost after iteration 510: 0.445335\n",
      "Cost after iteration 520: 0.446793\n",
      "Cost after iteration 530: 0.438349\n",
      "Cost after iteration 540: 0.440565\n",
      "Cost after iteration 550: 0.449765\n",
      "Cost after iteration 560: 0.435967\n",
      "Cost after iteration 570: 0.434511\n",
      "Cost after iteration 580: 0.426203\n",
      "Cost after iteration 590: 0.425125\n",
      "Cost after iteration 600: 0.420424\n",
      "Cost after iteration 610: 0.419806\n",
      "Cost after iteration 620: 0.421434\n",
      "Cost after iteration 630: 0.426870\n",
      "Cost after iteration 640: 0.427058\n",
      "Cost after iteration 650: 0.411324\n",
      "Cost after iteration 660: 0.420938\n",
      "Cost after iteration 670: 0.410863\n",
      "Cost after iteration 680: 0.401370\n",
      "Cost after iteration 690: 0.405807\n",
      "Cost after iteration 700: 0.406537\n",
      "Cost after iteration 710: 0.394259\n",
      "Cost after iteration 720: 0.397817\n",
      "Cost after iteration 730: 0.390043\n",
      "Cost after iteration 740: 0.386009\n",
      "Cost after iteration 750: 0.385064\n",
      "Cost after iteration 760: 0.383207\n",
      "Cost after iteration 770: 0.379816\n",
      "Cost after iteration 780: 0.380708\n",
      "Cost after iteration 790: 0.383255\n",
      "Cost after iteration 800: 0.373947\n",
      "Cost after iteration 810: 0.373711\n",
      "Cost after iteration 820: 0.371991\n",
      "Cost after iteration 830: 0.367495\n",
      "Cost after iteration 840: 0.365380\n",
      "Cost after iteration 850: 0.364593\n",
      "Cost after iteration 860: 0.366276\n",
      "Cost after iteration 870: 0.359834\n",
      "Cost after iteration 880: 0.360843\n",
      "Cost after iteration 890: 0.355309\n",
      "Cost after iteration 900: 0.352449\n",
      "Cost after iteration 910: 0.353130\n",
      "Cost after iteration 920: 0.355683\n",
      "Cost after iteration 930: 0.347214\n",
      "Cost after iteration 940: 0.345564\n",
      "Cost after iteration 950: 0.342154\n",
      "Cost after iteration 960: 0.341949\n",
      "Cost after iteration 970: 0.343033\n",
      "Cost after iteration 980: 0.337249\n",
      "Cost after iteration 990: 0.335808\n",
      "Cost after iteration 1000: 0.334456\n",
      "Cost after iteration 1010: 0.332429\n",
      "Cost after iteration 1020: 0.332009\n",
      "Cost after iteration 1030: 0.330203\n",
      "Cost after iteration 1040: 0.332532\n",
      "Cost after iteration 1050: 0.328469\n",
      "Cost after iteration 1060: 0.322366\n",
      "Cost after iteration 1070: 0.332058\n",
      "Cost after iteration 1080: 0.319276\n",
      "Cost after iteration 1090: 0.326639\n",
      "Cost after iteration 1100: 0.320227\n",
      "Cost after iteration 1110: 0.317621\n",
      "Cost after iteration 1120: 0.311582\n",
      "Cost after iteration 1130: 0.309718\n",
      "Cost after iteration 1140: 0.308316\n",
      "Cost after iteration 1150: 0.310626\n",
      "Cost after iteration 1160: 0.306325\n",
      "Cost after iteration 1170: 0.303420\n",
      "Cost after iteration 1180: 0.304094\n",
      "Cost after iteration 1190: 0.300039\n",
      "Cost after iteration 1200: 0.304218\n",
      "Cost after iteration 1210: 0.298544\n",
      "Cost after iteration 1220: 0.303456\n",
      "Cost after iteration 1230: 0.299143\n",
      "Cost after iteration 1240: 0.291804\n",
      "Cost after iteration 1250: 0.290622\n",
      "Cost after iteration 1260: 0.299336\n",
      "Cost after iteration 1270: 0.288564\n",
      "Cost after iteration 1280: 0.294315\n",
      "Cost after iteration 1290: 0.290196\n",
      "Cost after iteration 1300: 0.284685\n",
      "Cost after iteration 1310: 0.282668\n",
      "Cost after iteration 1320: 0.286103\n",
      "Cost after iteration 1330: 0.280505\n",
      "Cost after iteration 1340: 0.280857\n",
      "Cost after iteration 1350: 0.276428\n",
      "Cost after iteration 1360: 0.273801\n",
      "Cost after iteration 1370: 0.278763\n",
      "Cost after iteration 1380: 0.270364\n",
      "Cost after iteration 1390: 0.272375\n",
      "Cost after iteration 1400: 0.271731\n",
      "Cost after iteration 1410: 0.274013\n",
      "Cost after iteration 1420: 0.267515\n",
      "Cost after iteration 1430: 0.265746\n",
      "Cost after iteration 1440: 0.271206\n",
      "Cost after iteration 1450: 0.263461\n",
      "Cost after iteration 1460: 0.260459\n",
      "Cost after iteration 1470: 0.258763\n",
      "Cost after iteration 1480: 0.260394\n",
      "Cost after iteration 1490: 0.258788\n",
      "Cost after iteration 1500: 0.258256\n",
      "Cost after iteration 1510: 0.262899\n",
      "Cost after iteration 1520: 0.256331\n",
      "Cost after iteration 1530: 0.251936\n",
      "Cost after iteration 1540: 0.249026\n",
      "Cost after iteration 1550: 0.248660\n",
      "Cost after iteration 1560: 0.248185\n",
      "Cost after iteration 1570: 0.245399\n",
      "Cost after iteration 1580: 0.245314\n",
      "Cost after iteration 1590: 0.244956\n",
      "Cost after iteration 1600: 0.241092\n",
      "Cost after iteration 1610: 0.240066\n",
      "Cost after iteration 1620: 0.241008\n",
      "Cost after iteration 1630: 0.237349\n",
      "Cost after iteration 1640: 0.242750\n",
      "Cost after iteration 1650: 0.238539\n",
      "Cost after iteration 1660: 0.234145\n",
      "Cost after iteration 1670: 0.234360\n",
      "Cost after iteration 1680: 0.234455\n",
      "Cost after iteration 1690: 0.231360\n",
      "Cost after iteration 1700: 0.237339\n",
      "Cost after iteration 1710: 0.228727\n",
      "Cost after iteration 1720: 0.227020\n",
      "Cost after iteration 1730: 0.228277\n",
      "Cost after iteration 1740: 0.224337\n",
      "Cost after iteration 1750: 0.226168\n",
      "Cost after iteration 1760: 0.226200\n",
      "Cost after iteration 1770: 0.221334\n",
      "Cost after iteration 1780: 0.220751\n",
      "Cost after iteration 1790: 0.225772\n",
      "Cost after iteration 1800: 0.219030\n",
      "Cost after iteration 1810: 0.219210\n",
      "Cost after iteration 1820: 0.216095\n",
      "Cost after iteration 1830: 0.215038\n",
      "Cost after iteration 1840: 0.215084\n",
      "Cost after iteration 1850: 0.212605\n",
      "Cost after iteration 1860: 0.211929\n",
      "Cost after iteration 1870: 0.214251\n",
      "Cost after iteration 1880: 0.209940\n",
      "Cost after iteration 1890: 0.208939\n",
      "Cost after iteration 1900: 0.207019\n",
      "Cost after iteration 1910: 0.206158\n",
      "Cost after iteration 1920: 0.207723\n",
      "Cost after iteration 1930: 0.204412\n",
      "Cost after iteration 1940: 0.208692\n",
      "Cost after iteration 1950: 0.201632\n",
      "Cost after iteration 1960: 0.200577\n",
      "Cost after iteration 1970: 0.199798\n",
      "Cost after iteration 1980: 0.200486\n",
      "Cost after iteration 1990: 0.199550\n",
      "Cost after iteration 2000: 0.197243\n",
      "Cost after iteration 2010: 0.196283\n",
      "Cost after iteration 2020: 0.197792\n",
      "Cost after iteration 2030: 0.197184\n",
      "Cost after iteration 2040: 0.193407\n",
      "Cost after iteration 2050: 0.193810\n",
      "Cost after iteration 2060: 0.190930\n",
      "Cost after iteration 2070: 0.190600\n",
      "Cost after iteration 2080: 0.190527\n",
      "Cost after iteration 2090: 0.188545\n",
      "Cost after iteration 2100: 0.188773\n",
      "Cost after iteration 2110: 0.187422\n",
      "Cost after iteration 2120: 0.186234\n",
      "Cost after iteration 2130: 0.184847\n",
      "Cost after iteration 2140: 0.187119\n",
      "Cost after iteration 2150: 0.182946\n",
      "Cost after iteration 2160: 0.184186\n",
      "Cost after iteration 2170: 0.182161\n",
      "Cost after iteration 2180: 0.183444\n",
      "Cost after iteration 2190: 0.179470\n",
      "Cost after iteration 2200: 0.179885\n",
      "Cost after iteration 2210: 0.177800\n",
      "Cost after iteration 2220: 0.177296\n",
      "Cost after iteration 2230: 0.176086\n",
      "Cost after iteration 2240: 0.175891\n",
      "Cost after iteration 2250: 0.177351\n",
      "Cost after iteration 2260: 0.173495\n",
      "Cost after iteration 2270: 0.173234\n",
      "Cost after iteration 2280: 0.174575\n",
      "Cost after iteration 2290: 0.172127\n",
      "Cost after iteration 2300: 0.171124\n",
      "Cost after iteration 2310: 0.170814\n",
      "Cost after iteration 2320: 0.168911\n",
      "Cost after iteration 2330: 0.168562\n",
      "Cost after iteration 2340: 0.167324\n",
      "Cost after iteration 2350: 0.166479\n",
      "Cost after iteration 2360: 0.166623\n",
      "Cost after iteration 2370: 0.164922\n",
      "Cost after iteration 2380: 0.164698\n",
      "Cost after iteration 2390: 0.163334\n",
      "Cost after iteration 2400: 0.163126\n",
      "Cost after iteration 2410: 0.163225\n",
      "Cost after iteration 2420: 0.160756\n",
      "Cost after iteration 2430: 0.161169\n",
      "Cost after iteration 2440: 0.159492\n",
      "Cost after iteration 2450: 0.158611\n",
      "Cost after iteration 2460: 0.157927\n",
      "Cost after iteration 2470: 0.157479\n",
      "Cost after iteration 2480: 0.156713\n",
      "Cost after iteration 2490: 0.155867\n",
      "Cost after iteration 2500: 0.155586\n",
      "Cost after iteration 2510: 0.154359\n",
      "Cost after iteration 2520: 0.153918\n",
      "Cost after iteration 2530: 0.153925\n",
      "Cost after iteration 2540: 0.152834\n",
      "Cost after iteration 2550: 0.151779\n",
      "Cost after iteration 2560: 0.151302\n",
      "Cost after iteration 2570: 0.150622\n",
      "Cost after iteration 2580: 0.149604\n",
      "Cost after iteration 2590: 0.149385\n",
      "Cost after iteration 2600: 0.149078\n",
      "Cost after iteration 2610: 0.147421\n",
      "Cost after iteration 2620: 0.147326\n",
      "Cost after iteration 2630: 0.146623\n",
      "Cost after iteration 2640: 0.145751\n",
      "Cost after iteration 2650: 0.144758\n",
      "Cost after iteration 2660: 0.144264\n",
      "Cost after iteration 2670: 0.144592\n",
      "Cost after iteration 2680: 0.142894\n",
      "Cost after iteration 2690: 0.142482\n",
      "Cost after iteration 2700: 0.144183\n",
      "Cost after iteration 2710: 0.141529\n",
      "Cost after iteration 2720: 0.140438\n",
      "Cost after iteration 2730: 0.140254\n",
      "Cost after iteration 2740: 0.140747\n",
      "Cost after iteration 2750: 0.138977\n",
      "Cost after iteration 2760: 0.137547\n",
      "Cost after iteration 2770: 0.137267\n",
      "Cost after iteration 2780: 0.136538\n",
      "Cost after iteration 2790: 0.136230\n",
      "Cost after iteration 2800: 0.135172\n",
      "Cost after iteration 2810: 0.134597\n",
      "Cost after iteration 2820: 0.135688\n",
      "Cost after iteration 2830: 0.133887\n",
      "Cost after iteration 2840: 0.132937\n",
      "Cost after iteration 2850: 0.132392\n",
      "Cost after iteration 2860: 0.131875\n",
      "Cost after iteration 2870: 0.131171\n",
      "Cost after iteration 2880: 0.130638\n",
      "Cost after iteration 2890: 0.129919\n",
      "Cost after iteration 2900: 0.129544\n",
      "Cost after iteration 2910: 0.128990\n",
      "Cost after iteration 2920: 0.130718\n",
      "Cost after iteration 2930: 0.127621\n",
      "Cost after iteration 2940: 0.127586\n",
      "Cost after iteration 2950: 0.126785\n",
      "Cost after iteration 2960: 0.126221\n",
      "Cost after iteration 2970: 0.125616\n",
      "Cost after iteration 2980: 0.125584\n",
      "Cost after iteration 2990: 0.124320\n",
      "Cost after iteration 3000: 0.124015\n",
      "Cost after iteration 3010: 0.123302\n",
      "Cost after iteration 3020: 0.123531\n",
      "Cost after iteration 3030: 0.122833\n",
      "Cost after iteration 3040: 0.121824\n",
      "Cost after iteration 3050: 0.121226\n",
      "Cost after iteration 3060: 0.120830\n",
      "Cost after iteration 3070: 0.120761\n",
      "Cost after iteration 3080: 0.119733\n",
      "Cost after iteration 3090: 0.119490\n",
      "Cost after iteration 3100: 0.118910\n",
      "Cost after iteration 3110: 0.118266\n",
      "Cost after iteration 3120: 0.118199\n",
      "Cost after iteration 3130: 0.117531\n",
      "Cost after iteration 3140: 0.116710\n",
      "Cost after iteration 3150: 0.116382\n",
      "Cost after iteration 3160: 0.115940\n",
      "Cost after iteration 3170: 0.115449\n",
      "Cost after iteration 3180: 0.114897\n",
      "Cost after iteration 3190: 0.114574\n",
      "Cost after iteration 3200: 0.114284\n",
      "Cost after iteration 3210: 0.113364\n",
      "Cost after iteration 3220: 0.112925\n",
      "Cost after iteration 3230: 0.112520\n",
      "Cost after iteration 3240: 0.111901\n",
      "Cost after iteration 3250: 0.111833\n",
      "Cost after iteration 3260: 0.111332\n",
      "Cost after iteration 3270: 0.111420\n",
      "Cost after iteration 3280: 0.110299\n",
      "Cost after iteration 3290: 0.110077\n",
      "Cost after iteration 3300: 0.109223\n",
      "Cost after iteration 3310: 0.109014\n",
      "Cost after iteration 3320: 0.108423\n",
      "Cost after iteration 3330: 0.108004\n",
      "Cost after iteration 3340: 0.107751\n",
      "Cost after iteration 3350: 0.107121\n",
      "Cost after iteration 3360: 0.107203\n",
      "Cost after iteration 3370: 0.106594\n",
      "Cost after iteration 3380: 0.105832\n",
      "Cost after iteration 3390: 0.105663\n",
      "Cost after iteration 3400: 0.105627\n",
      "Cost after iteration 3410: 0.104806\n",
      "Cost after iteration 3420: 0.104309\n",
      "Cost after iteration 3430: 0.104080\n",
      "Cost after iteration 3440: 0.103401\n",
      "Cost after iteration 3450: 0.103439\n",
      "Cost after iteration 3460: 0.102683\n",
      "Cost after iteration 3470: 0.102178\n",
      "Cost after iteration 3480: 0.101913\n",
      "Cost after iteration 3490: 0.101207\n",
      "Cost after iteration 3500: 0.100818\n",
      "Cost after iteration 3510: 0.100589\n",
      "Cost after iteration 3520: 0.100066\n",
      "Cost after iteration 3530: 0.099709\n",
      "Cost after iteration 3540: 0.099364\n",
      "Cost after iteration 3550: 0.099057\n",
      "Cost after iteration 3560: 0.098921\n",
      "Cost after iteration 3570: 0.098473\n",
      "Cost after iteration 3580: 0.097849\n",
      "Cost after iteration 3590: 0.097511\n",
      "Cost after iteration 3600: 0.097247\n",
      "Cost after iteration 3610: 0.096622\n",
      "Cost after iteration 3620: 0.096701\n",
      "Cost after iteration 3630: 0.096114\n",
      "Cost after iteration 3640: 0.095478\n",
      "Cost after iteration 3650: 0.095243\n",
      "Cost after iteration 3660: 0.094776\n",
      "Cost after iteration 3670: 0.094568\n",
      "Cost after iteration 3680: 0.094191\n"
     ]
    }
   ],
   "source": [
    "layer_dims = [12288,20,1] # 4-layer\n",
    "parameters = L_layer_model(train_x,y_train,layer_dims,num_iterations=7000,print_cost=True)"
   ]
  },
  {
   "cell_type": "code",
   "execution_count": 53,
   "metadata": {},
   "outputs": [],
   "source": [
    "def predict(X, y, parameters):\n",
    "    \"\"\"\n",
    "    This function is used to predict the results of a  L-layer neural network.\n",
    "    \n",
    "    Arguments:\n",
    "    X -- data set of examples you would like to label\n",
    "    parameters -- parameters of the trained model\n",
    "    \n",
    "    Returns:\n",
    "    p -- predictions for the given dataset X\n",
    "    \"\"\"\n",
    "    \n",
    "    m = X.shape[1]\n",
    "    n = len(parameters) // 2 # number of layers in the neural network\n",
    "    p = np.zeros((1,m))\n",
    "    \n",
    "    # Forward propagation\n",
    "    probas, caches = L_model_forward(X, parameters)\n",
    "\n",
    "    # convert probas to 0/1 predictions\n",
    "    for i in range(0, probas.shape[1]):\n",
    "        if probas[0,i] > 0.5:\n",
    "            p[0,i] = 1\n",
    "        else:\n",
    "            p[0,i] = 0\n",
    "    \n",
    "    #print results\n",
    "    #print (\"predictions: \" + str(p))\n",
    "    #print (\"true labels: \" + str(y))\n",
    "    print(\"Accuracy: \"  + str(np.sum((p == y)/m)))\n",
    "        \n",
    "    return p"
   ]
  },
  {
   "cell_type": "code",
   "execution_count": 54,
   "metadata": {},
   "outputs": [
    {
     "name": "stdout",
     "output_type": "stream",
     "text": [
      "Accuracy: 0.9922480620155039\n"
     ]
    }
   ],
   "source": [
    "pred_train = predict(train_x, y_train, parameters)"
   ]
  },
  {
   "cell_type": "code",
   "execution_count": 55,
   "metadata": {},
   "outputs": [
    {
     "name": "stdout",
     "output_type": "stream",
     "text": [
      "Accuracy: 0.5538461538461539\n"
     ]
    }
   ],
   "source": [
    "pred_test = predict(test_x, y_test, parameters)"
   ]
  }
 ],
 "metadata": {
  "kernelspec": {
   "display_name": "Python 3",
   "language": "python",
   "name": "python3"
  },
  "language_info": {
   "codemirror_mode": {
    "name": "ipython",
    "version": 3
   },
   "file_extension": ".py",
   "mimetype": "text/x-python",
   "name": "python",
   "nbconvert_exporter": "python",
   "pygments_lexer": "ipython3",
   "version": "3.7.3"
  }
 },
 "nbformat": 4,
 "nbformat_minor": 2
}

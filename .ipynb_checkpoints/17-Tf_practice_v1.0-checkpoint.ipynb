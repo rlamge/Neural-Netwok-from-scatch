{
 "cells": [
  {
   "cell_type": "markdown",
   "metadata": {},
   "source": [
    "# Same Implementation in Tensorflow\n",
    "\n",
    "This shows how simple a life can **programming framework like Tensorflow** make. \n",
    "\n",
    "However, directly using such frameworks often leads to \"forgetting our roots\"."
   ]
  },
  {
   "cell_type": "code",
   "execution_count": 1,
   "metadata": {},
   "outputs": [],
   "source": [
    "import numpy as np\n",
    "import matplotlib.pyplot as plt\n",
    "import os\n",
    "import cv2\n",
    "import random\n",
    "import math\n",
    "from sklearn.model_selection import train_test_split\n",
    "from sklearn.metrics import accuracy_score\n",
    "\n",
    "%matplotlib inline"
   ]
  },
  {
   "cell_type": "code",
   "execution_count": 2,
   "metadata": {},
   "outputs": [],
   "source": [
    "DATADIR = \"C:/Users/Omkar/ML and DS/Dog/dataset/softmax\""
   ]
  },
  {
   "cell_type": "code",
   "execution_count": 3,
   "metadata": {},
   "outputs": [],
   "source": [
    "CATEGORIES = [\"German1\",\"Golden1\",\"Pug1\",\"Chow1\",\"ShihTzu1\",\"Bloodhound1\",\"Siberian_husky1\"]\n",
    "img_size = 64"
   ]
  },
  {
   "cell_type": "code",
   "execution_count": 4,
   "metadata": {},
   "outputs": [],
   "source": [
    "training_data=[]\n",
    "\n",
    "def create_training_data():\n",
    "    for category in CATEGORIES:\n",
    "        path = os.path.join(DATADIR, category)\n",
    "        class_num = CATEGORIES.index(category)\n",
    "        for img in os.listdir(path):\n",
    "            img_array = cv2.imread(os.path.join(path, img))\n",
    "            new_array = cv2.resize(img_array,(img_size,img_size))\n",
    "            training_data.append([new_array, class_num])"
   ]
  },
  {
   "cell_type": "code",
   "execution_count": 5,
   "metadata": {},
   "outputs": [
    {
     "name": "stdout",
     "output_type": "stream",
     "text": [
      "2582\n"
     ]
    }
   ],
   "source": [
    "create_training_data()\n",
    "print(len(training_data))"
   ]
  },
  {
   "cell_type": "code",
   "execution_count": 6,
   "metadata": {},
   "outputs": [],
   "source": [
    "random.shuffle(training_data)"
   ]
  },
  {
   "cell_type": "code",
   "execution_count": 7,
   "metadata": {},
   "outputs": [
    {
     "name": "stdout",
     "output_type": "stream",
     "text": [
      "6\n",
      "2\n",
      "4\n",
      "2\n",
      "4\n",
      "2\n",
      "2\n",
      "1\n",
      "4\n",
      "1\n"
     ]
    }
   ],
   "source": [
    "for sample in training_data[:10]:\n",
    "    print(sample[1])"
   ]
  },
  {
   "cell_type": "code",
   "execution_count": 8,
   "metadata": {},
   "outputs": [],
   "source": [
    "X = []\n",
    "y = []\n",
    "for features, label in training_data:\n",
    "    X.append(features)\n",
    "    y.append(label)"
   ]
  },
  {
   "cell_type": "code",
   "execution_count": 9,
   "metadata": {},
   "outputs": [],
   "source": [
    "X = np.array(X)\n",
    "y = np.array(y)"
   ]
  },
  {
   "cell_type": "code",
   "execution_count": 10,
   "metadata": {},
   "outputs": [
    {
     "name": "stdout",
     "output_type": "stream",
     "text": [
      "Shape of X = (2582, 64, 64, 3)\n",
      "Shape of y = (2582,)\n"
     ]
    }
   ],
   "source": [
    "print(\"Shape of X = \"+ str(X.shape))\n",
    "print(\"Shape of y = \" + str(y.shape))"
   ]
  },
  {
   "cell_type": "code",
   "execution_count": 11,
   "metadata": {},
   "outputs": [],
   "source": [
    "x_train,x_test,y_train,y_test=train_test_split(X,y,test_size=0.2)"
   ]
  },
  {
   "cell_type": "code",
   "execution_count": 12,
   "metadata": {},
   "outputs": [],
   "source": [
    "import tensorflow as tf\n",
    "from tensorflow.keras.models import Sequential\n",
    "from tensorflow.keras.layers import Dense, Dropout, Activation, Flatten"
   ]
  },
  {
   "cell_type": "code",
   "execution_count": 13,
   "metadata": {},
   "outputs": [
    {
     "name": "stdout",
     "output_type": "stream",
     "text": [
      "WARNING:tensorflow:From <ipython-input-13-97ecbf874269>:2: is_gpu_available (from tensorflow.python.framework.test_util) is deprecated and will be removed in a future version.\n",
      "Instructions for updating:\n",
      "Use `tf.config.list_physical_devices('GPU')` instead.\n"
     ]
    },
    {
     "data": {
      "text/plain": [
       "True"
      ]
     },
     "execution_count": 13,
     "metadata": {},
     "output_type": "execute_result"
    }
   ],
   "source": [
    "tf.test.is_gpu_available(\n",
    "    cuda_only=False, min_cuda_compute_capability=None\n",
    ")"
   ]
  },
  {
   "cell_type": "code",
   "execution_count": 14,
   "metadata": {},
   "outputs": [],
   "source": [
    "x_train = tf.keras.utils.normalize(x_train, axis=1)\n",
    "x_test = tf.keras.utils.normalize(x_test, axis=1)"
   ]
  },
  {
   "cell_type": "code",
   "execution_count": 20,
   "metadata": {},
   "outputs": [],
   "source": [
    "model = Sequential()\n",
    "model.add(Flatten())\n",
    "\n",
    "model.add(Dense(24))\n",
    "model.add(Activation('sigmoid'))\n",
    "#model.add(Dropout(0.4))\n",
    "\n",
    "model.add(Dense(24))\n",
    "model.add(Activation('sigmoid'))\n",
    "#model.add(Dropout(0.4))\n",
    "\n",
    "model.add(Dense(7))\n",
    "model.add(Activation('softmax'))\n"
   ]
  },
  {
   "cell_type": "code",
   "execution_count": 21,
   "metadata": {},
   "outputs": [],
   "source": [
    "model.compile(optimizer = \"adam\",\n",
    "             loss = \"sparse_categorical_crossentropy\",\n",
    "             metrics = [\"accuracy\"])"
   ]
  },
  {
   "cell_type": "code",
   "execution_count": 22,
   "metadata": {},
   "outputs": [
    {
     "name": "stdout",
     "output_type": "stream",
     "text": [
      "Train on 2065 samples\n",
      "Epoch 1/150\n",
      "2065/2065 [==============================] - 1s 337us/sample - loss: 1.9780 - accuracy: 0.1608\n",
      "Epoch 2/150\n",
      "2065/2065 [==============================] - 0s 149us/sample - loss: 1.9406 - accuracy: 0.1579\n",
      "Epoch 3/150\n",
      "2065/2065 [==============================] - 0s 150us/sample - loss: 1.9359 - accuracy: 0.1787\n",
      "Epoch 4/150\n",
      "2065/2065 [==============================] - 0s 151us/sample - loss: 1.9317 - accuracy: 0.1777\n",
      "Epoch 5/150\n",
      "2065/2065 [==============================] - 0s 150us/sample - loss: 1.9274 - accuracy: 0.1768\n",
      "Epoch 6/150\n",
      "2065/2065 [==============================] - 0s 152us/sample - loss: 1.9192 - accuracy: 0.1937\n",
      "Epoch 7/150\n",
      "2065/2065 [==============================] - 0s 147us/sample - loss: 1.9114 - accuracy: 0.1932\n",
      "Epoch 8/150\n",
      "2065/2065 [==============================] - 0s 149us/sample - loss: 1.9020 - accuracy: 0.2034\n",
      "Epoch 9/150\n",
      "2065/2065 [==============================] - 0s 153us/sample - loss: 1.8951 - accuracy: 0.2044\n",
      "Epoch 10/150\n",
      "2065/2065 [==============================] - 0s 149us/sample - loss: 1.8821 - accuracy: 0.2281\n",
      "Epoch 11/150\n",
      "2065/2065 [==============================] - 0s 149us/sample - loss: 1.8709 - accuracy: 0.2291\n",
      "Epoch 12/150\n",
      "2065/2065 [==============================] - 0s 150us/sample - loss: 1.8595 - accuracy: 0.2383\n",
      "Epoch 13/150\n",
      "2065/2065 [==============================] - 0s 149us/sample - loss: 1.8487 - accuracy: 0.2295\n",
      "Epoch 14/150\n",
      "2065/2065 [==============================] - 0s 149us/sample - loss: 1.8341 - accuracy: 0.2446\n",
      "Epoch 15/150\n",
      "2065/2065 [==============================] - 0s 149us/sample - loss: 1.8217 - accuracy: 0.2538\n",
      "Epoch 16/150\n",
      "2065/2065 [==============================] - 0s 147us/sample - loss: 1.8122 - accuracy: 0.2475\n",
      "Epoch 17/150\n",
      "2065/2065 [==============================] - 0s 149us/sample - loss: 1.7991 - accuracy: 0.2489\n",
      "Epoch 18/150\n",
      "2065/2065 [==============================] - 0s 149us/sample - loss: 1.7850 - accuracy: 0.2562\n",
      "Epoch 19/150\n",
      "2065/2065 [==============================] - 0s 148us/sample - loss: 1.7718 - accuracy: 0.2775\n",
      "Epoch 20/150\n",
      "2065/2065 [==============================] - 0s 150us/sample - loss: 1.7500 - accuracy: 0.2915\n",
      "Epoch 21/150\n",
      "2065/2065 [==============================] - 0s 149us/sample - loss: 1.7375 - accuracy: 0.3254\n",
      "Epoch 22/150\n",
      "2065/2065 [==============================] - 0s 149us/sample - loss: 1.7242 - accuracy: 0.3061\n",
      "Epoch 23/150\n",
      "2065/2065 [==============================] - 0s 151us/sample - loss: 1.7026 - accuracy: 0.3429\n",
      "Epoch 24/150\n",
      "2065/2065 [==============================] - 0s 148us/sample - loss: 1.6877 - accuracy: 0.3298\n",
      "Epoch 25/150\n",
      "2065/2065 [==============================] - 0s 149us/sample - loss: 1.6642 - accuracy: 0.3540\n",
      "Epoch 26/150\n",
      "2065/2065 [==============================] - 0s 150us/sample - loss: 1.6971 - accuracy: 0.3259\n",
      "Epoch 27/150\n",
      "2065/2065 [==============================] - 0s 149us/sample - loss: 1.6456 - accuracy: 0.3559\n",
      "Epoch 28/150\n",
      "2065/2065 [==============================] - 0s 151us/sample - loss: 1.6185 - accuracy: 0.3729\n",
      "Epoch 29/150\n",
      "2065/2065 [==============================] - 0s 150us/sample - loss: 1.6207 - accuracy: 0.3627\n",
      "Epoch 30/150\n",
      "2065/2065 [==============================] - 0s 147us/sample - loss: 1.5902 - accuracy: 0.3898\n",
      "Epoch 31/150\n",
      "2065/2065 [==============================] - 0s 147us/sample - loss: 1.5739 - accuracy: 0.3937\n",
      "Epoch 32/150\n",
      "2065/2065 [==============================] - 0s 150us/sample - loss: 1.5759 - accuracy: 0.3889\n",
      "Epoch 33/150\n",
      "2065/2065 [==============================] - 0s 150us/sample - loss: 1.5452 - accuracy: 0.3927\n",
      "Epoch 34/150\n",
      "2065/2065 [==============================] - 0s 148us/sample - loss: 1.5371 - accuracy: 0.4169\n",
      "Epoch 35/150\n",
      "2065/2065 [==============================] - 0s 149us/sample - loss: 1.5177 - accuracy: 0.4232\n",
      "Epoch 36/150\n",
      "2065/2065 [==============================] - 0s 146us/sample - loss: 1.5016 - accuracy: 0.4184\n",
      "Epoch 37/150\n",
      "2065/2065 [==============================] - 0s 149us/sample - loss: 1.5008 - accuracy: 0.3995\n",
      "Epoch 38/150\n",
      "2065/2065 [==============================] - 0s 149us/sample - loss: 1.4850 - accuracy: 0.4276\n",
      "Epoch 39/150\n",
      "2065/2065 [==============================] - 0s 149us/sample - loss: 1.4526 - accuracy: 0.4412\n",
      "Epoch 40/150\n",
      "2065/2065 [==============================] - 0s 149us/sample - loss: 1.4716 - accuracy: 0.4208\n",
      "Epoch 41/150\n",
      "2065/2065 [==============================] - 0s 149us/sample - loss: 1.4324 - accuracy: 0.4426\n",
      "Epoch 42/150\n",
      "2065/2065 [==============================] - 0s 150us/sample - loss: 1.4339 - accuracy: 0.4508\n",
      "Epoch 43/150\n",
      "2065/2065 [==============================] - 0s 149us/sample - loss: 1.4165 - accuracy: 0.4571\n",
      "Epoch 44/150\n",
      "2065/2065 [==============================] - 0s 149us/sample - loss: 1.3890 - accuracy: 0.4741\n",
      "Epoch 45/150\n",
      "2065/2065 [==============================] - 0s 149us/sample - loss: 1.3925 - accuracy: 0.4600\n",
      "Epoch 46/150\n",
      "2065/2065 [==============================] - 0s 151us/sample - loss: 1.3767 - accuracy: 0.4755\n",
      "Epoch 47/150\n",
      "2065/2065 [==============================] - 0s 149us/sample - loss: 1.3442 - accuracy: 0.4852\n",
      "Epoch 48/150\n",
      "2065/2065 [==============================] - 0s 148us/sample - loss: 1.3349 - accuracy: 0.4983\n",
      "Epoch 49/150\n",
      "2065/2065 [==============================] - 0s 149us/sample - loss: 1.3450 - accuracy: 0.4794\n",
      "Epoch 50/150\n",
      "2065/2065 [==============================] - 0s 151us/sample - loss: 1.3600 - accuracy: 0.4799\n",
      "Epoch 51/150\n",
      "2065/2065 [==============================] - 0s 149us/sample - loss: 1.3102 - accuracy: 0.4944\n",
      "Epoch 52/150\n",
      "2065/2065 [==============================] - 0s 151us/sample - loss: 1.2880 - accuracy: 0.5157\n",
      "Epoch 53/150\n",
      "2065/2065 [==============================] - 0s 149us/sample - loss: 1.2872 - accuracy: 0.5162\n",
      "Epoch 54/150\n",
      "2065/2065 [==============================] - 0s 148us/sample - loss: 1.3413 - accuracy: 0.4775\n",
      "Epoch 55/150\n",
      "2065/2065 [==============================] - 0s 151us/sample - loss: 1.2558 - accuracy: 0.5366\n",
      "Epoch 56/150\n",
      "2065/2065 [==============================] - 0s 155us/sample - loss: 1.2627 - accuracy: 0.5090\n",
      "Epoch 57/150\n",
      "2065/2065 [==============================] - 0s 153us/sample - loss: 1.2341 - accuracy: 0.5467\n",
      "Epoch 58/150\n",
      "2065/2065 [==============================] - 0s 155us/sample - loss: 1.2504 - accuracy: 0.5220\n",
      "Epoch 59/150\n",
      "2065/2065 [==============================] - 0s 156us/sample - loss: 1.2378 - accuracy: 0.5254\n",
      "Epoch 60/150\n",
      "2065/2065 [==============================] - 0s 154us/sample - loss: 1.2137 - accuracy: 0.5545\n",
      "Epoch 61/150\n",
      "2065/2065 [==============================] - 0s 154us/sample - loss: 1.2154 - accuracy: 0.5511\n",
      "Epoch 62/150\n",
      "2065/2065 [==============================] - 0s 157us/sample - loss: 1.1836 - accuracy: 0.5617\n",
      "Epoch 63/150\n",
      "2065/2065 [==============================] - 0s 157us/sample - loss: 1.1709 - accuracy: 0.5787\n",
      "Epoch 64/150\n",
      "2065/2065 [==============================] - 0s 152us/sample - loss: 1.1754 - accuracy: 0.5642\n",
      "Epoch 65/150\n",
      "2065/2065 [==============================] - 0s 156us/sample - loss: 1.1613 - accuracy: 0.5734\n",
      "Epoch 66/150\n",
      "2065/2065 [==============================] - 0s 157us/sample - loss: 1.1484 - accuracy: 0.5845\n",
      "Epoch 67/150\n",
      "2065/2065 [==============================] - 0s 155us/sample - loss: 1.1304 - accuracy: 0.5942\n",
      "Epoch 68/150\n",
      "2065/2065 [==============================] - 0s 160us/sample - loss: 1.1190 - accuracy: 0.5985\n",
      "Epoch 69/150\n",
      "2065/2065 [==============================] - 0s 155us/sample - loss: 1.1002 - accuracy: 0.6068\n",
      "Epoch 70/150\n",
      "2065/2065 [==============================] - 0s 155us/sample - loss: 1.1056 - accuracy: 0.6039\n",
      "Epoch 71/150\n",
      "2065/2065 [==============================] - 0s 155us/sample - loss: 1.1076 - accuracy: 0.5985\n",
      "Epoch 72/150\n",
      "2065/2065 [==============================] - 0s 154us/sample - loss: 1.1173 - accuracy: 0.5801\n",
      "Epoch 73/150\n",
      "2065/2065 [==============================] - 0s 151us/sample - loss: 1.0590 - accuracy: 0.6324\n",
      "Epoch 74/150\n",
      "2065/2065 [==============================] - 0s 156us/sample - loss: 1.0490 - accuracy: 0.6324\n",
      "Epoch 75/150\n",
      "2065/2065 [==============================] - 0s 149us/sample - loss: 1.0490 - accuracy: 0.6320\n",
      "Epoch 76/150\n",
      "2065/2065 [==============================] - 0s 149us/sample - loss: 1.0465 - accuracy: 0.6252\n",
      "Epoch 77/150\n",
      "2065/2065 [==============================] - 0s 151us/sample - loss: 1.0427 - accuracy: 0.6344\n",
      "Epoch 78/150\n",
      "2065/2065 [==============================] - 0s 153us/sample - loss: 1.0074 - accuracy: 0.6528\n",
      "Epoch 79/150\n",
      "2065/2065 [==============================] - 0s 153us/sample - loss: 1.0238 - accuracy: 0.6324\n",
      "Epoch 80/150\n",
      "2065/2065 [==============================] - 0s 152us/sample - loss: 0.9836 - accuracy: 0.6726\n",
      "Epoch 81/150\n",
      "2065/2065 [==============================] - 0s 151us/sample - loss: 1.0012 - accuracy: 0.6455\n",
      "Epoch 82/150\n",
      "2065/2065 [==============================] - 0s 152us/sample - loss: 1.0230 - accuracy: 0.6271\n",
      "Epoch 83/150\n",
      "2065/2065 [==============================] - 0s 149us/sample - loss: 0.9538 - accuracy: 0.6857\n",
      "Epoch 84/150\n",
      "2065/2065 [==============================] - 0s 155us/sample - loss: 0.9574 - accuracy: 0.6741\n",
      "Epoch 85/150\n",
      "2065/2065 [==============================] - 0s 156us/sample - loss: 0.9746 - accuracy: 0.6692\n",
      "Epoch 86/150\n",
      "2065/2065 [==============================] - 0s 152us/sample - loss: 0.9555 - accuracy: 0.6726\n",
      "Epoch 87/150\n",
      "2065/2065 [==============================] - 0s 153us/sample - loss: 0.9338 - accuracy: 0.6881\n",
      "Epoch 88/150\n",
      "2065/2065 [==============================] - 0s 149us/sample - loss: 0.9275 - accuracy: 0.6818\n",
      "Epoch 89/150\n",
      "2065/2065 [==============================] - 0s 156us/sample - loss: 0.9329 - accuracy: 0.6717\n",
      "Epoch 90/150\n",
      "2065/2065 [==============================] - 0s 149us/sample - loss: 0.8825 - accuracy: 0.7201\n",
      "Epoch 91/150\n",
      "2065/2065 [==============================] - 0s 150us/sample - loss: 0.8907 - accuracy: 0.7031\n",
      "Epoch 92/150\n",
      "2065/2065 [==============================] - 0s 150us/sample - loss: 0.8801 - accuracy: 0.7085\n",
      "Epoch 93/150\n",
      "2065/2065 [==============================] - 0s 149us/sample - loss: 0.8782 - accuracy: 0.7075\n",
      "Epoch 94/150\n",
      "2065/2065 [==============================] - 0s 157us/sample - loss: 0.8520 - accuracy: 0.7322\n",
      "Epoch 95/150\n",
      "2065/2065 [==============================] - 0s 148us/sample - loss: 0.8538 - accuracy: 0.7269\n",
      "Epoch 96/150\n",
      "2065/2065 [==============================] - 0s 155us/sample - loss: 0.8394 - accuracy: 0.7356\n",
      "Epoch 97/150\n",
      "2065/2065 [==============================] - 0s 152us/sample - loss: 0.8669 - accuracy: 0.7046\n",
      "Epoch 98/150\n",
      "2065/2065 [==============================] - 0s 150us/sample - loss: 0.8257 - accuracy: 0.7448\n",
      "Epoch 99/150\n",
      "2065/2065 [==============================] - 0s 150us/sample - loss: 0.8269 - accuracy: 0.7293\n",
      "Epoch 100/150\n",
      "2065/2065 [==============================] - 0s 155us/sample - loss: 0.8135 - accuracy: 0.7370\n",
      "Epoch 101/150\n",
      "2065/2065 [==============================] - 0s 152us/sample - loss: 0.7909 - accuracy: 0.7627\n",
      "Epoch 102/150\n",
      "2065/2065 [==============================] - 0s 148us/sample - loss: 0.8072 - accuracy: 0.7312\n",
      "Epoch 103/150\n",
      "2065/2065 [==============================] - 0s 150us/sample - loss: 0.7908 - accuracy: 0.7525\n",
      "Epoch 104/150\n",
      "2065/2065 [==============================] - 0s 148us/sample - loss: 0.7579 - accuracy: 0.7777\n",
      "Epoch 105/150\n",
      "2065/2065 [==============================] - 0s 150us/sample - loss: 0.7647 - accuracy: 0.7554\n",
      "Epoch 106/150\n",
      "2065/2065 [==============================] - 0s 147us/sample - loss: 0.7956 - accuracy: 0.7375\n",
      "Epoch 107/150\n",
      "2065/2065 [==============================] - 0s 149us/sample - loss: 0.7291 - accuracy: 0.7893\n",
      "Epoch 108/150\n",
      "2065/2065 [==============================] - 0s 150us/sample - loss: 0.7258 - accuracy: 0.7831\n",
      "Epoch 109/150\n",
      "2065/2065 [==============================] - 0s 149us/sample - loss: 0.7674 - accuracy: 0.7414\n",
      "Epoch 110/150\n",
      "2065/2065 [==============================] - 0s 149us/sample - loss: 0.7203 - accuracy: 0.7772\n",
      "Epoch 111/150\n",
      "2065/2065 [==============================] - 0s 148us/sample - loss: 0.7015 - accuracy: 0.7913\n",
      "Epoch 112/150\n",
      "2065/2065 [==============================] - 0s 148us/sample - loss: 0.7000 - accuracy: 0.7898\n",
      "Epoch 113/150\n",
      "2065/2065 [==============================] - 0s 150us/sample - loss: 0.7065 - accuracy: 0.7893\n",
      "Epoch 114/150\n",
      "2065/2065 [==============================] - 0s 152us/sample - loss: 0.6823 - accuracy: 0.8077\n",
      "Epoch 115/150\n",
      "2065/2065 [==============================] - 0s 147us/sample - loss: 0.6683 - accuracy: 0.8053\n",
      "Epoch 116/150\n",
      "2065/2065 [==============================] - 0s 149us/sample - loss: 0.6764 - accuracy: 0.8029\n",
      "Epoch 117/150\n",
      "2065/2065 [==============================] - 0s 149us/sample - loss: 0.6705 - accuracy: 0.7927\n",
      "Epoch 118/150\n",
      "2065/2065 [==============================] - 0s 149us/sample - loss: 0.7068 - accuracy: 0.7666\n",
      "Epoch 119/150\n",
      "2065/2065 [==============================] - 0s 149us/sample - loss: 0.6530 - accuracy: 0.8063\n",
      "Epoch 120/150\n",
      "2065/2065 [==============================] - 0s 150us/sample - loss: 0.6268 - accuracy: 0.8257\n",
      "Epoch 121/150\n",
      "2065/2065 [==============================] - 0s 149us/sample - loss: 0.6175 - accuracy: 0.8184\n",
      "Epoch 122/150\n",
      "2065/2065 [==============================] - 0s 150us/sample - loss: 0.6117 - accuracy: 0.8247\n",
      "Epoch 123/150\n",
      "2065/2065 [==============================] - 0s 152us/sample - loss: 0.6037 - accuracy: 0.8305\n",
      "Epoch 124/150\n",
      "2065/2065 [==============================] - 0s 148us/sample - loss: 0.6039 - accuracy: 0.8252\n",
      "Epoch 125/150\n",
      "2065/2065 [==============================] - 0s 150us/sample - loss: 0.6517 - accuracy: 0.7918\n",
      "Epoch 126/150\n",
      "2065/2065 [==============================] - 0s 151us/sample - loss: 0.6092 - accuracy: 0.8223\n",
      "Epoch 127/150\n",
      "2065/2065 [==============================] - 0s 150us/sample - loss: 0.5547 - accuracy: 0.8581\n",
      "Epoch 128/150\n",
      "2065/2065 [==============================] - 0s 151us/sample - loss: 0.6076 - accuracy: 0.8121\n",
      "Epoch 129/150\n",
      "2065/2065 [==============================] - 0s 149us/sample - loss: 0.5514 - accuracy: 0.8600\n",
      "Epoch 130/150\n",
      "2065/2065 [==============================] - 0s 148us/sample - loss: 0.5618 - accuracy: 0.8397\n",
      "Epoch 131/150\n",
      "2065/2065 [==============================] - 0s 151us/sample - loss: 0.5492 - accuracy: 0.8518\n",
      "Epoch 132/150\n",
      "2065/2065 [==============================] - 0s 150us/sample - loss: 0.5164 - accuracy: 0.8770\n",
      "Epoch 133/150\n",
      "2065/2065 [==============================] - 0s 149us/sample - loss: 0.5054 - accuracy: 0.8814\n",
      "Epoch 134/150\n",
      "2065/2065 [==============================] - 0s 152us/sample - loss: 0.5135 - accuracy: 0.8741\n",
      "Epoch 135/150\n",
      "2065/2065 [==============================] - 0s 151us/sample - loss: 0.5037 - accuracy: 0.8789\n",
      "Epoch 136/150\n",
      "2065/2065 [==============================] - 0s 149us/sample - loss: 0.4956 - accuracy: 0.8741\n",
      "Epoch 137/150\n",
      "2065/2065 [==============================] - 0s 151us/sample - loss: 0.5028 - accuracy: 0.8683\n",
      "Epoch 138/150\n",
      "2065/2065 [==============================] - 0s 153us/sample - loss: 0.4874 - accuracy: 0.8751\n",
      "Epoch 139/150\n",
      "2065/2065 [==============================] - 0s 151us/sample - loss: 0.4891 - accuracy: 0.8663\n",
      "Epoch 140/150\n",
      "2065/2065 [==============================] - 0s 149us/sample - loss: 0.4683 - accuracy: 0.8896\n",
      "Epoch 141/150\n",
      "2065/2065 [==============================] - 0s 152us/sample - loss: 0.5407 - accuracy: 0.8247\n",
      "Epoch 142/150\n",
      "2065/2065 [==============================] - 0s 150us/sample - loss: 0.4829 - accuracy: 0.8731\n",
      "Epoch 143/150\n",
      "2065/2065 [==============================] - 0s 149us/sample - loss: 0.4738 - accuracy: 0.8755\n",
      "Epoch 144/150\n",
      "2065/2065 [==============================] - 0s 149us/sample - loss: 0.4579 - accuracy: 0.8775\n",
      "Epoch 145/150\n",
      "2065/2065 [==============================] - 0s 151us/sample - loss: 0.4796 - accuracy: 0.8644\n",
      "Epoch 146/150\n",
      "2065/2065 [==============================] - 0s 149us/sample - loss: 0.4474 - accuracy: 0.8886\n",
      "Epoch 147/150\n",
      "2065/2065 [==============================] - 0s 152us/sample - loss: 0.4319 - accuracy: 0.8959\n",
      "Epoch 148/150\n",
      "2065/2065 [==============================] - 0s 150us/sample - loss: 0.5051 - accuracy: 0.8436\n",
      "Epoch 149/150\n",
      "2065/2065 [==============================] - 0s 149us/sample - loss: 0.4111 - accuracy: 0.9075\n",
      "Epoch 150/150\n",
      "2065/2065 [==============================] - 0s 150us/sample - loss: 0.4040 - accuracy: 0.9104\n"
     ]
    },
    {
     "data": {
      "text/plain": [
       "<tensorflow.python.keras.callbacks.History at 0x1d1cb34b388>"
      ]
     },
     "execution_count": 22,
     "metadata": {},
     "output_type": "execute_result"
    }
   ],
   "source": [
    "model.fit(x_train,y_train, epochs = 150)"
   ]
  },
  {
   "cell_type": "code",
   "execution_count": 23,
   "metadata": {},
   "outputs": [
    {
     "name": "stdout",
     "output_type": "stream",
     "text": [
      "517/517 [==============================] - 0s 348us/sample - loss: 3.5277 - accuracy: 0.2805\n"
     ]
    },
    {
     "data": {
      "text/plain": [
       "[3.527675814047542, 0.2804642]"
      ]
     },
     "execution_count": 23,
     "metadata": {},
     "output_type": "execute_result"
    }
   ],
   "source": [
    "model.evaluate(x_test,y_test)"
   ]
  },
  {
   "cell_type": "code",
   "execution_count": 19,
   "metadata": {},
   "outputs": [
    {
     "name": "stdout",
     "output_type": "stream",
     "text": [
      "Model: \"sequential\"\n",
      "_________________________________________________________________\n",
      "Layer (type)                 Output Shape              Param #   \n",
      "=================================================================\n",
      "flatten (Flatten)            multiple                  0         \n",
      "_________________________________________________________________\n",
      "dense (Dense)                multiple                  294936    \n",
      "_________________________________________________________________\n",
      "activation (Activation)      multiple                  0         \n",
      "_________________________________________________________________\n",
      "dropout (Dropout)            multiple                  0         \n",
      "_________________________________________________________________\n",
      "dense_1 (Dense)              multiple                  600       \n",
      "_________________________________________________________________\n",
      "activation_1 (Activation)    multiple                  0         \n",
      "_________________________________________________________________\n",
      "dropout_1 (Dropout)          multiple                  0         \n",
      "_________________________________________________________________\n",
      "dense_2 (Dense)              multiple                  175       \n",
      "_________________________________________________________________\n",
      "activation_2 (Activation)    multiple                  0         \n",
      "=================================================================\n",
      "Total params: 295,711\n",
      "Trainable params: 295,711\n",
      "Non-trainable params: 0\n",
      "_________________________________________________________________\n"
     ]
    }
   ],
   "source": [
    "model.summary()"
   ]
  }
 ],
 "metadata": {
  "kernelspec": {
   "display_name": "Python 3",
   "language": "python",
   "name": "python3"
  },
  "language_info": {
   "codemirror_mode": {
    "name": "ipython",
    "version": 3
   },
   "file_extension": ".py",
   "mimetype": "text/x-python",
   "name": "python",
   "nbconvert_exporter": "python",
   "pygments_lexer": "ipython3",
   "version": "3.7.3"
  }
 },
 "nbformat": 4,
 "nbformat_minor": 4
}

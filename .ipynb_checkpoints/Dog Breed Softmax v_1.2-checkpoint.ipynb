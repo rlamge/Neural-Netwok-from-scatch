{
 "cells": [
  {
   "cell_type": "markdown",
   "metadata": {},
   "source": [
    "## Dog Breed Detection using Deep Neural Network\n",
    "### Softmax Layer for Multiclass Detection\n",
    "### Currently classifies into 3 Categories\n"
   ]
  },
  {
   "cell_type": "markdown",
   "metadata": {},
   "source": [
    "### Imports"
   ]
  },
  {
   "cell_type": "code",
   "execution_count": 227,
   "metadata": {},
   "outputs": [],
   "source": [
    "import numpy as np\n",
    "import os\n",
    "import cv2\n",
    "import matplotlib.pyplot as plt\n",
    "import random\n",
    "from sklearn.model_selection import train_test_split\n",
    "\n",
    "%matplotlib inline"
   ]
  },
  {
   "cell_type": "markdown",
   "metadata": {},
   "source": [
    "### Directory"
   ]
  },
  {
   "cell_type": "code",
   "execution_count": 228,
   "metadata": {},
   "outputs": [],
   "source": [
    "DATADIR = \"C:/Dataset/Softmax\""
   ]
  },
  {
   "cell_type": "code",
   "execution_count": 229,
   "metadata": {},
   "outputs": [],
   "source": [
    "CATEGORIES = [\"German\",\"Husky\",\"Pug\"]\n",
    "img_size = 64"
   ]
  },
  {
   "cell_type": "markdown",
   "metadata": {},
   "source": [
    "### Training Data List"
   ]
  },
  {
   "cell_type": "code",
   "execution_count": 230,
   "metadata": {},
   "outputs": [],
   "source": [
    "training_data=[]\n",
    "\n",
    "def create_training_data():\n",
    "    for category in CATEGORIES:\n",
    "        path = os.path.join(DATADIR, category)\n",
    "        class_num = CATEGORIES.index(category)\n",
    "        for img in os.listdir(path):\n",
    "            img_array = cv2.imread(os.path.join(path, img))\n",
    "            new_array = cv2.resize(img_array,(img_size,img_size))\n",
    "            training_data.append([new_array, class_num])"
   ]
  },
  {
   "cell_type": "code",
   "execution_count": 231,
   "metadata": {},
   "outputs": [
    {
     "name": "stdout",
     "output_type": "stream",
     "text": [
      "544\n"
     ]
    }
   ],
   "source": [
    "create_training_data()\n",
    "print(len(training_data))"
   ]
  },
  {
   "cell_type": "code",
   "execution_count": 232,
   "metadata": {},
   "outputs": [],
   "source": [
    "random.shuffle(training_data)"
   ]
  },
  {
   "cell_type": "markdown",
   "metadata": {},
   "source": [
    "### Separating Training List into Features and Label"
   ]
  },
  {
   "cell_type": "code",
   "execution_count": 233,
   "metadata": {},
   "outputs": [],
   "source": [
    "X = []\n",
    "y_unsorted = []\n",
    "for features, label in training_data:\n",
    "    X.append(features)\n",
    "    y_unsorted.append(label)"
   ]
  },
  {
   "cell_type": "markdown",
   "metadata": {},
   "source": [
    "### Transforming Labels into correct format"
   ]
  },
  {
   "cell_type": "code",
   "execution_count": 237,
   "metadata": {},
   "outputs": [],
   "source": [
    "def one_hot(labels,C):\n",
    "    mapping = {}\n",
    "    for i in range(C):\n",
    "        mapping[i]=i\n",
    "    one_hot_encode = []\n",
    "    for l in labels:\n",
    "        arr = list(np.zeros(C, dtype = int))\n",
    "        arr[mapping[l]] = 1\n",
    "        one_hot_encode.append(arr)\n",
    "    return one_hot_encode"
   ]
  },
  {
   "cell_type": "code",
   "execution_count": 238,
   "metadata": {},
   "outputs": [],
   "source": [
    "y = one_hot(y_unsorted,len(CATEGORIES))"
   ]
  },
  {
   "cell_type": "markdown",
   "metadata": {},
   "source": [
    "### Transforming List to Array"
   ]
  },
  {
   "cell_type": "code",
   "execution_count": 239,
   "metadata": {},
   "outputs": [],
   "source": [
    "X = np.array(X)\n",
    "y = np.array(y)"
   ]
  },
  {
   "cell_type": "code",
   "execution_count": 240,
   "metadata": {},
   "outputs": [
    {
     "name": "stdout",
     "output_type": "stream",
     "text": [
      "Shape of X = (544, 64, 64, 3)\n",
      "Shape of y = (544, 3)\n"
     ]
    }
   ],
   "source": [
    "print(\"Shape of X = \"+ str(X.shape))\n",
    "print(\"Shape of y = \" + str(y.shape))"
   ]
  },
  {
   "cell_type": "code",
   "execution_count": 241,
   "metadata": {},
   "outputs": [],
   "source": [
    "x_train,x_test,y_train,y_test=train_test_split(X,y,test_size=0.2)"
   ]
  },
  {
   "cell_type": "markdown",
   "metadata": {},
   "source": [
    "### Transforming Arrays to correct Dimension"
   ]
  },
  {
   "cell_type": "code",
   "execution_count": 242,
   "metadata": {},
   "outputs": [],
   "source": [
    "y_train = y_train.T \n",
    "y_test = y_test.T"
   ]
  },
  {
   "cell_type": "code",
   "execution_count": 243,
   "metadata": {},
   "outputs": [
    {
     "name": "stdout",
     "output_type": "stream",
     "text": [
      "y= [1 0 0]\n"
     ]
    },
    {
     "data": {
      "image/png": "[encoded data removed]",
      "text/plain": [
       "<Figure size 432x288 with 1 Axes>"
      ]
     },
     "metadata": {
      "needs_background": "light"
     },
     "output_type": "display_data"
    }
   ],
   "source": [
    "index = 242\n",
    "plt.imshow(x_train[index])\n",
    "print(\"y= \"+ str(y_train[:,index]))\n",
    "\n",
    "#German = [1,0,0]\n",
    "#Golden = [0,1,0]\n",
    "#Pug = [0,0,1]"
   ]
  },
  {
   "cell_type": "markdown",
   "metadata": {},
   "source": [
    "### Exploring Dataset"
   ]
  },
  {
   "cell_type": "code",
   "execution_count": 244,
   "metadata": {},
   "outputs": [
    {
     "name": "stdout",
     "output_type": "stream",
     "text": [
      "Number of training examples: m_train = 435\n",
      "Number of testing examples: m_test = 109\n",
      "Height/Width of each image: num_px = 64\n",
      "Each image is of size: (64, 64, 3)\n",
      "train_set_x shape: (435, 64, 64, 3)\n",
      "train_set_y shape: (3, 435)\n",
      "test_set_x shape: (109, 64, 64, 3)\n",
      "test_set_y shape: (3, 109)\n"
     ]
    }
   ],
   "source": [
    "m_train = x_train.shape[0]\n",
    "m_test = x_test.shape[0]\n",
    "num_px = x_train.shape[1]\n",
    "\n",
    "print (\"Number of training examples: m_train = \" + str(m_train))\n",
    "print (\"Number of testing examples: m_test = \" + str(m_test))\n",
    "print (\"Height/Width of each image: num_px = \" + str(num_px))\n",
    "print (\"Each image is of size: (\" + str(num_px) + \", \" + str(num_px) + \", 3)\")\n",
    "print (\"train_set_x shape: \" + str(x_train.shape))\n",
    "print (\"train_set_y shape: \" + str(y_train.shape))\n",
    "print (\"test_set_x shape: \" + str(x_test.shape))\n",
    "print (\"test_set_y shape: \" + str(y_test.shape))"
   ]
  },
  {
   "cell_type": "code",
   "execution_count": 245,
   "metadata": {},
   "outputs": [
    {
     "name": "stdout",
     "output_type": "stream",
     "text": [
      "train_set_x_flatten shape: (12288, 435)\n",
      "train_set_y shape: (3, 435)\n",
      "test_set_x_flatten shape: (12288, 109)\n",
      "test_set_y shape: (3, 109)\n",
      "sanity check after reshaping: [12 16 17 10 15]\n"
     ]
    }
   ],
   "source": [
    "train_set_x_flatten = x_train.reshape(x_train.shape[0], -1).T\n",
    "test_set_x_flatten = x_test.reshape(x_test.shape[0], -1).T\n",
    "\n",
    "print (\"train_set_x_flatten shape: \" + str(train_set_x_flatten.shape))\n",
    "print (\"train_set_y shape: \" + str(y_train.shape))\n",
    "print (\"test_set_x_flatten shape: \" + str(test_set_x_flatten.shape))\n",
    "print (\"test_set_y shape: \" + str(y_test.shape))\n",
    "print (\"sanity check after reshaping: \" + str(train_set_x_flatten[0:5,0]))"
   ]
  },
  {
   "cell_type": "code",
   "execution_count": 246,
   "metadata": {},
   "outputs": [],
   "source": [
    "train_x = train_set_x_flatten/255.\n",
    "test_x = test_set_x_flatten/255."
   ]
  },
  {
   "cell_type": "markdown",
   "metadata": {},
   "source": [
    "### Helper Functions"
   ]
  },
  {
   "cell_type": "code",
   "execution_count": 247,
   "metadata": {},
   "outputs": [],
   "source": [
    "def sigmoid(Z):\n",
    "    A = 1/(1+np.exp(-Z))\n",
    "    cache = Z\n",
    "    \n",
    "    return A,cache"
   ]
  },
  {
   "cell_type": "code",
   "execution_count": 248,
   "metadata": {},
   "outputs": [],
   "source": [
    "def sigmoid_backward(dA, cache):\n",
    "    Z = cache\n",
    "    s = 1/(1+np.exp(-Z))\n",
    "    dZ = dA * s * (1-s)\n",
    "    \n",
    "    assert(dZ.shape == Z.shape)\n",
    "    return dZ"
   ]
  },
  {
   "cell_type": "code",
   "execution_count": 249,
   "metadata": {},
   "outputs": [],
   "source": [
    "def softmax(Z):\n",
    "    #exps = np.exp(Z - np.max(Z, axis=1, keepdims=True))\n",
    "    #exps = np.exp(Z)\n",
    "    cache = Z\n",
    "    Z -= np.max(Z)\n",
    "    sm = (np.exp(Z).T / np.sum(np.exp(Z),axis=1)).T\n",
    "    #return exps / np.sum(exps,axis=1, keepdims = True), cache\n",
    "    return sm, cache"
   ]
  },
  {
   "cell_type": "markdown",
   "metadata": {},
   "source": [
    "### Initialization"
   ]
  },
  {
   "cell_type": "code",
   "execution_count": 250,
   "metadata": {},
   "outputs": [],
   "source": [
    "def initialize_parameters_deep(layer_dims):\n",
    "\n",
    "    parameters = {}\n",
    "    L = len(layer_dims)\n",
    "    \n",
    "    for l in range(1,L):\n",
    "        parameters[\"W\" + str(l)] = np.random.randn(layer_dims[l],\n",
    "                                                   layer_dims[l-1])*(np.sqrt(2. / layer_dims[l-1]))\n",
    "        \n",
    "        parameters[\"b\" + str(l)] = np.zeros((layer_dims[l],1))\n",
    "        \n",
    "        assert(parameters['W' + str(l)].shape == (layer_dims[l],\n",
    "                                                  layer_dims[l-1]))\n",
    "        \n",
    "        assert(parameters['b' + str(l)].shape == (layer_dims[l], 1))\n",
    "    return parameters"
   ]
  },
  {
   "cell_type": "code",
   "execution_count": 251,
   "metadata": {},
   "outputs": [],
   "source": [
    "def initialize_adam(parameters) :\n",
    "    \n",
    "    L = len(parameters) // 2 # number of layers in the neural networks\n",
    "    v = {}\n",
    "    s = {}\n",
    "\n",
    "    for l in range(L):\n",
    "\n",
    "        v[\"dW\" + str(l+1)] = np.zeros(parameters[\"W\" + str(l+1)].shape)\n",
    "        v[\"db\" + str(l+1)] = np.zeros(parameters[\"b\" + str(l+1)].shape)\n",
    "        s[\"dW\" + str(l+1)] = np.zeros(parameters[\"W\" + str(l+1)].shape)\n",
    "        s[\"db\" + str(l+1)] = np.zeros(parameters[\"b\" + str(l+1)].shape)\n",
    "    \n",
    "    return v, s"
   ]
  },
  {
   "cell_type": "markdown",
   "metadata": {},
   "source": [
    "### Forward Prop"
   ]
  },
  {
   "cell_type": "code",
   "execution_count": 252,
   "metadata": {},
   "outputs": [],
   "source": [
    "def linear_forward(A, W, b):\n",
    "    Z = np.dot(W,A)+b\n",
    "    assert(Z.shape == (W.shape[0], A.shape[1]))\n",
    "    cache = (A, W, b)\n",
    "    \n",
    "    return Z, cache"
   ]
  },
  {
   "cell_type": "code",
   "execution_count": 253,
   "metadata": {},
   "outputs": [],
   "source": [
    "def linear_activation_forward(A_prev, W, b, activation):\n",
    "    \n",
    "    if activation == \"sigmoid\":\n",
    "        # Inputs: \"A_prev, W, b\". Outputs: \"A, activation_cache\"\n",
    "        Z, linear_cache = linear_forward(A_prev, W, b)\n",
    "        A, activation_cache = sigmoid(Z)\n",
    "    \n",
    "    elif activation == \"softmax\":\n",
    "        # Inputs: \"A_prev, W, b\". Outputs: \"A, activation_cache\"\n",
    "        Z, linear_cache = linear_forward(A_prev, W, b)\n",
    "        A, activation_cache = softmax(Z)\n",
    "    \n",
    "    assert (A.shape == (W.shape[0], A_prev.shape[1]))\n",
    "    cache = (linear_cache, activation_cache)\n",
    "\n",
    "    return A, cache"
   ]
  },
  {
   "cell_type": "code",
   "execution_count": 254,
   "metadata": {},
   "outputs": [],
   "source": [
    "def L_model_forward(X, parameters):\n",
    "    caches = []\n",
    "    A = X\n",
    "    L = len(parameters) // 2    # number of layers in the neural network\n",
    "    \n",
    "    # Implement [LINEAR -> SIGMOID]*(L-1). Add \"cache\" to the \"caches\" list.\n",
    "    for l in range(1, L):\n",
    "        A_prev = A \n",
    "        A, cache = linear_activation_forward(A_prev, parameters['W'+ str(l)],\n",
    "                                             parameters['b'+ str(l)],\n",
    "                                             activation = \"sigmoid\")\n",
    "        caches.append(cache)\n",
    "    \n",
    "    # Implement LINEAR -> SOFTMAX. Add \"cache\" to the \"caches\" list.\n",
    "    AL, cache = linear_activation_forward(A, parameters['W' + str(L)],\n",
    "                                          parameters['b' + str(L)],\n",
    "                                          activation= \"softmax\")\n",
    "    caches.append(cache)\n",
    "    # LOOk HERE\n",
    "    assert(AL.shape == (3,X.shape[1]))\n",
    "            \n",
    "    return AL, caches"
   ]
  },
  {
   "cell_type": "markdown",
   "metadata": {},
   "source": [
    "### Cost Function"
   ]
  },
  {
   "cell_type": "code",
   "execution_count": 255,
   "metadata": {},
   "outputs": [],
   "source": [
    "def compute_cost(AL, Y, parameters, lambd):\n",
    "    m = Y.shape[1]\n",
    "    L = len(parameters) // 2\n",
    "    W_r = np.zeros((1,1))\n",
    "    \n",
    "    for l in range(L):\n",
    "        \n",
    "        W = parameters[\"W\"+str(l+1)]\n",
    "        W = np.sum(np.square(W))\n",
    "        W_r += W\n",
    "    \n",
    "    cost = -(1/m) * np.sum(np.multiply(np.log(AL),Y)) + (lambd/(2*m)) * W_r \n",
    "    \n",
    "    cost = np.squeeze(cost)\n",
    "    assert(cost.shape == ())\n",
    "    \n",
    "    return cost "
   ]
  },
  {
   "cell_type": "markdown",
   "metadata": {},
   "source": [
    "### Back prop\n",
    "\n",
    "#### Linear Backprop"
   ]
  },
  {
   "cell_type": "code",
   "execution_count": 256,
   "metadata": {},
   "outputs": [],
   "source": [
    "def linear_backward(dZ, cache, lambd):\n",
    "    A_prev, W, b = cache\n",
    "    m = A_prev.shape[1]\n",
    "\n",
    "    dW = (1/m) * np.dot(dZ,A_prev.T) + (lambd/(m))\n",
    "    db = (1/m) * np.sum(dZ, axis=1, keepdims=True)\n",
    "    dA_prev = np.dot(W.T,dZ)\n",
    "    \n",
    "    assert (dA_prev.shape == A_prev.shape)\n",
    "    assert (dW.shape == W.shape)\n",
    "    assert (db.shape == b.shape)\n",
    "    \n",
    "    return dA_prev, dW, db"
   ]
  },
  {
   "cell_type": "code",
   "execution_count": 257,
   "metadata": {},
   "outputs": [],
   "source": [
    "def linear_activation_backward(dA,dZL, cache, activation):\n",
    "    linear_cache, activation_cache = cache\n",
    "    \n",
    "    if activation == \"softmax\":\n",
    "        dZ = dZL \n",
    "        dA_prev, dW, db = linear_backward(dZ,linear_cache, lambd = 0.7)\n",
    "        \n",
    "    elif activation == \"sigmoid\":\n",
    "        dZ = sigmoid_backward(dA,activation_cache)\n",
    "        dA_prev, dW, db = linear_backward(dZ,linear_cache, lambd = 0.7)\n",
    "    \n",
    "    return dA_prev, dW, db"
   ]
  },
  {
   "cell_type": "code",
   "execution_count": 258,
   "metadata": {},
   "outputs": [],
   "source": [
    "def L_model_backward(AL, Y, caches):\n",
    "    grads = {}\n",
    "    L = len(caches) # the number of layers\n",
    "    m = AL.shape[1]\n",
    "    Y = Y.reshape(AL.shape) # after this line, Y is the same shape as AL\n",
    "    \n",
    "    # Initializing the backpropagation\n",
    "    dAL = - np.divide(Y, AL)   # d_cost/d_AL derivation\n",
    "    dZL = AL - Y               #8:26 Training a softmax classifier\n",
    "    # Lth layer (SIGMOID -> LINEAR) gradients.\n",
    "    current_cache = caches[L-1]\n",
    "    grads[\"dA\" + str(L-1)], grads[\"dW\" + str(L)], grads[\"db\" + str(L)] = linear_activation_backward(dAL, dZL, current_cache, activation = \"softmax\")\n",
    "\n",
    "    \n",
    "    # Loop from l=L-2 to l=0\n",
    "    for l in reversed(range(L-1)):\n",
    "        # lth layer: (RELU -> LINEAR) gradients.\n",
    "        current_cache = caches[l]\n",
    "        dA_prev_temp, dW_temp, db_temp = linear_activation_backward(grads[\"dA\" + str(l + 1)], dZL,\n",
    "                                   current_cache, activation = \"sigmoid\")\n",
    "        grads[\"dA\" + str(l)] = dA_prev_temp\n",
    "        grads[\"dW\" + str(l + 1)] = dW_temp\n",
    "        grads[\"db\" + str(l + 1)] = db_temp\n",
    "\n",
    "    return grads"
   ]
  },
  {
   "cell_type": "markdown",
   "metadata": {},
   "source": [
    "### Update Parameters"
   ]
  },
  {
   "cell_type": "code",
   "execution_count": 259,
   "metadata": {},
   "outputs": [],
   "source": [
    "def update_parameters(parameters, grads, v, s, t, learning_rate, beta1, beta2, epsilon):\n",
    "    L = len(parameters) // 2 # number of layers in the neural network\n",
    "    \n",
    "    v_corrected = {}                         # Initializing first moment estimate, python dictionary\n",
    "    s_corrected = {}\n",
    "\n",
    "    for l in range(L):\n",
    "        \n",
    "        v[\"dW\" + str(l+1)] = beta1*v[\"dW\" + str(l+1)] + (1-beta1)*grads['dW' + str(l+1)]\n",
    "        v[\"db\" + str(l+1)] = beta1*v[\"db\" + str(l+1)] + (1-beta1)*grads['db' + str(l+1)]\n",
    "        \n",
    "        v_corrected[\"dW\" + str(l+1)] = v[\"dW\" + str(l+1)]/(1-np.power(beta1,t))\n",
    "        v_corrected[\"db\" + str(l+1)] = v[\"db\" + str(l+1)]/(1-np.power(beta1,t))\n",
    "        \n",
    "        s[\"dW\" + str(l+1)] = beta2*s[\"dW\" + str(l+1)]+(1-beta2)*np.power(grads['dW' + str(l+1)],2)\n",
    "        s[\"db\" + str(l+1)] = beta2*s[\"db\" + str(l+1)]+(1-beta2)*np.power(grads['db' + str(l+1)],2)\n",
    "        \n",
    "        s_corrected[\"dW\" + str(l+1)] = s[\"dW\" + str(l+1)]/(1-np.power(beta2,t))\n",
    "        s_corrected[\"db\" + str(l+1)] = s[\"db\" + str(l+1)]/(1-np.power(beta2,t))\n",
    "        \n",
    "        parameters[\"W\" + str(l+1)] = parameters[\"W\"+ str(l+1)] - learning_rate*v_corrected[\"dW\" + str(l+1)]/np.sqrt(s_corrected[\"dW\" + str(l+1)] +epsilon)\n",
    "        parameters[\"b\" + str(l+1)] = parameters[\"b\" + str(l+1)] - learning_rate*v_corrected[\"db\" + str(l+1)]/np.sqrt(s_corrected[\"db\" + str(l+1)]+epsilon)\n",
    "    \n",
    "    return parameters, v, s"
   ]
  },
  {
   "cell_type": "markdown",
   "metadata": {},
   "source": [
    "### Predict"
   ]
  },
  {
   "cell_type": "markdown",
   "metadata": {},
   "source": [
    "### Model"
   ]
  },
  {
   "cell_type": "code",
   "execution_count": 260,
   "metadata": {},
   "outputs": [],
   "source": [
    "def L_layer_model(X, Y, layers_dims, num_iterations, learning_rate = 0.0000075,\n",
    "                  beta1 = 0.9, beta2 = 0.999,  epsilon = 1e-8, print_cost = True):#lr was 0.009\n",
    "\n",
    "    costs = [] \n",
    "    t=0 \n",
    "    \n",
    "    # Parameters initialization\n",
    "    parameters = initialize_parameters_deep(layers_dims)\n",
    "    v, s = initialize_adam(parameters)\n",
    "    \n",
    "    # Loop (gradient descent)\n",
    "    for i in range(0, num_iterations):\n",
    "\n",
    "        # Forward propagation: [LINEAR -> RELU]*(L-1) -> LINEAR -> SIGMOID\n",
    "        AL, caches = L_model_forward(X, parameters)\n",
    "        \n",
    "        # Compute cost\n",
    "        cost = compute_cost(AL, Y, parameters, lambd = 0.7)\n",
    "    \n",
    "        # Backward propagation\n",
    "        grads = L_model_backward(AL, Y, caches)\n",
    " \n",
    "        # Update parameters\n",
    "        t = t + 1\n",
    "        parameters, v, s = update_parameters(parameters, grads, v, s, t, learning_rate, beta1, beta2,  epsilon)\n",
    "                \n",
    "        if print_cost and i % 10 == 0:\n",
    "            print (\"Cost after iteration %i: %f\" %(i, cost))\n",
    "        if print_cost and i % 10 == 0:\n",
    "            costs.append(cost)\n",
    "            \n",
    "    # plot the cost\n",
    "    plt.plot(np.squeeze(costs))\n",
    "    plt.ylabel('cost')\n",
    "    plt.xlabel('iterations (per hundreds)')\n",
    "    plt.title(\"Learning rate =\" + str(learning_rate))\n",
    "    plt.show()\n",
    "    \n",
    "    return parameters"
   ]
  },
  {
   "cell_type": "markdown",
   "metadata": {},
   "source": [
    "### Test"
   ]
  },
  {
   "cell_type": "code",
   "execution_count": 269,
   "metadata": {},
   "outputs": [
    {
     "name": "stdout",
     "output_type": "stream",
     "text": [
      "Cost after iteration 0: 6.087301\n",
      "Cost after iteration 10: 6.080218\n",
      "Cost after iteration 20: 6.074348\n",
      "Cost after iteration 30: 6.069109\n",
      "Cost after iteration 40: 6.064526\n",
      "Cost after iteration 50: 6.060552\n",
      "Cost after iteration 60: 6.057031\n",
      "Cost after iteration 70: 6.053829\n",
      "Cost after iteration 80: 6.050884\n",
      "Cost after iteration 90: 6.048162\n",
      "Cost after iteration 100: 6.045628\n",
      "Cost after iteration 110: 6.043248\n",
      "Cost after iteration 120: 6.041000\n",
      "Cost after iteration 130: 6.038866\n",
      "Cost after iteration 140: 6.036832\n",
      "Cost after iteration 150: 6.034886\n",
      "Cost after iteration 160: 6.033016\n",
      "Cost after iteration 170: 6.031215\n",
      "Cost after iteration 180: 6.029476\n",
      "Cost after iteration 190: 6.027792\n",
      "Cost after iteration 200: 6.026159\n",
      "Cost after iteration 210: 6.024574\n",
      "Cost after iteration 220: 6.023031\n",
      "Cost after iteration 230: 6.021530\n",
      "Cost after iteration 240: 6.020066\n",
      "Cost after iteration 250: 6.018637\n",
      "Cost after iteration 260: 6.017243\n",
      "Cost after iteration 270: 6.015880\n",
      "Cost after iteration 280: 6.014548\n",
      "Cost after iteration 290: 6.013246\n",
      "Cost after iteration 300: 6.011971\n",
      "Cost after iteration 310: 6.010722\n",
      "Cost after iteration 320: 6.009500\n",
      "Cost after iteration 330: 6.008301\n",
      "Cost after iteration 340: 6.007127\n",
      "Cost after iteration 350: 6.005975\n",
      "Cost after iteration 360: 6.004845\n",
      "Cost after iteration 370: 6.003736\n",
      "Cost after iteration 380: 6.002647\n",
      "Cost after iteration 390: 6.001578\n",
      "Cost after iteration 400: 6.000527\n",
      "Cost after iteration 410: 5.999495\n",
      "Cost after iteration 420: 5.998479\n",
      "Cost after iteration 430: 5.997481\n",
      "Cost after iteration 440: 5.996498\n",
      "Cost after iteration 450: 5.995532\n",
      "Cost after iteration 460: 5.994580\n",
      "Cost after iteration 470: 5.993642\n",
      "Cost after iteration 480: 5.992719\n",
      "Cost after iteration 490: 5.991808\n",
      "Cost after iteration 500: 5.990911\n",
      "Cost after iteration 510: 5.990026\n",
      "Cost after iteration 520: 5.989154\n",
      "Cost after iteration 530: 5.988293\n",
      "Cost after iteration 540: 5.987443\n",
      "Cost after iteration 550: 5.986605\n",
      "Cost after iteration 560: 5.985776\n",
      "Cost after iteration 570: 5.984958\n",
      "Cost after iteration 580: 5.984150\n",
      "Cost after iteration 590: 5.983352\n",
      "Cost after iteration 600: 5.982563\n",
      "Cost after iteration 610: 5.981782\n",
      "Cost after iteration 620: 5.981011\n",
      "Cost after iteration 630: 5.980247\n",
      "Cost after iteration 640: 5.979492\n",
      "Cost after iteration 650: 5.978745\n",
      "Cost after iteration 660: 5.978005\n",
      "Cost after iteration 670: 5.977273\n",
      "Cost after iteration 680: 5.976548\n",
      "Cost after iteration 690: 5.975830\n",
      "Cost after iteration 700: 5.975119\n",
      "Cost after iteration 710: 5.974414\n",
      "Cost after iteration 720: 5.973716\n",
      "Cost after iteration 730: 5.973024\n",
      "Cost after iteration 740: 5.972338\n",
      "Cost after iteration 750: 5.971658\n",
      "Cost after iteration 760: 5.970983\n",
      "Cost after iteration 770: 5.970314\n",
      "Cost after iteration 780: 5.969650\n",
      "Cost after iteration 790: 5.968992\n",
      "Cost after iteration 800: 5.968338\n",
      "Cost after iteration 810: 5.967689\n",
      "Cost after iteration 820: 5.967045\n",
      "Cost after iteration 830: 5.966406\n",
      "Cost after iteration 840: 5.965772\n",
      "Cost after iteration 850: 5.965141\n",
      "Cost after iteration 860: 5.964515\n",
      "Cost after iteration 870: 5.963894\n",
      "Cost after iteration 880: 5.963276\n",
      "Cost after iteration 890: 5.962662\n",
      "Cost after iteration 900: 5.962052\n",
      "Cost after iteration 910: 5.961446\n",
      "Cost after iteration 920: 5.960844\n",
      "Cost after iteration 930: 5.960245\n",
      "Cost after iteration 940: 5.959650\n",
      "Cost after iteration 950: 5.959058\n",
      "Cost after iteration 960: 5.958470\n",
      "Cost after iteration 970: 5.957885\n",
      "Cost after iteration 980: 5.957303\n",
      "Cost after iteration 990: 5.956724\n",
      "Cost after iteration 1000: 5.956149\n",
      "Cost after iteration 1010: 5.955576\n",
      "Cost after iteration 1020: 5.955007\n",
      "Cost after iteration 1030: 5.954440\n",
      "Cost after iteration 1040: 5.953876\n",
      "Cost after iteration 1050: 5.953315\n",
      "Cost after iteration 1060: 5.952757\n",
      "Cost after iteration 1070: 5.952201\n",
      "Cost after iteration 1080: 5.951648\n",
      "Cost after iteration 1090: 5.951098\n",
      "Cost after iteration 1100: 5.950550\n",
      "Cost after iteration 1110: 5.950005\n",
      "Cost after iteration 1120: 5.949462\n",
      "Cost after iteration 1130: 5.948922\n",
      "Cost after iteration 1140: 5.948384\n",
      "Cost after iteration 1150: 5.947848\n",
      "Cost after iteration 1160: 5.947314\n",
      "Cost after iteration 1170: 5.946783\n",
      "Cost after iteration 1180: 5.946254\n",
      "Cost after iteration 1190: 5.945727\n",
      "Cost after iteration 1200: 5.945203\n",
      "Cost after iteration 1210: 5.944680\n",
      "Cost after iteration 1220: 5.944160\n",
      "Cost after iteration 1230: 5.943642\n",
      "Cost after iteration 1240: 5.943125\n",
      "Cost after iteration 1250: 5.942611\n",
      "Cost after iteration 1260: 5.942099\n",
      "Cost after iteration 1270: 5.941589\n",
      "Cost after iteration 1280: 5.941081\n",
      "Cost after iteration 1290: 5.940574\n",
      "Cost after iteration 1300: 5.940070\n",
      "Cost after iteration 1310: 5.939568\n",
      "Cost after iteration 1320: 5.939067\n",
      "Cost after iteration 1330: 5.938569\n",
      "Cost after iteration 1340: 5.938072\n",
      "Cost after iteration 1350: 5.937577\n",
      "Cost after iteration 1360: 5.937084\n",
      "Cost after iteration 1370: 5.936593\n",
      "Cost after iteration 1380: 5.936104\n",
      "Cost after iteration 1390: 5.935617\n",
      "Cost after iteration 1400: 5.935132\n",
      "Cost after iteration 1410: 5.934649\n",
      "Cost after iteration 1420: 5.934167\n",
      "Cost after iteration 1430: 5.933688\n",
      "Cost after iteration 1440: 5.933210\n",
      "Cost after iteration 1450: 5.932734\n",
      "Cost after iteration 1460: 5.932261\n",
      "Cost after iteration 1470: 5.931789\n",
      "Cost after iteration 1480: 5.931319\n",
      "Cost after iteration 1490: 5.930851\n",
      "Cost after iteration 1500: 5.930385\n",
      "Cost after iteration 1510: 5.929921\n",
      "Cost after iteration 1520: 5.929459\n",
      "Cost after iteration 1530: 5.928999\n",
      "Cost after iteration 1540: 5.928542\n",
      "Cost after iteration 1550: 5.928086\n",
      "Cost after iteration 1560: 5.927632\n",
      "Cost after iteration 1570: 5.927180\n",
      "Cost after iteration 1580: 5.926731\n",
      "Cost after iteration 1590: 5.926283\n",
      "Cost after iteration 1600: 5.925838\n",
      "Cost after iteration 1610: 5.925395\n",
      "Cost after iteration 1620: 5.924954\n",
      "Cost after iteration 1630: 5.924515\n",
      "Cost after iteration 1640: 5.924078\n",
      "Cost after iteration 1650: 5.923644\n",
      "Cost after iteration 1660: 5.923212\n",
      "Cost after iteration 1670: 5.922781\n",
      "Cost after iteration 1680: 5.922354\n",
      "Cost after iteration 1690: 5.921928\n",
      "Cost after iteration 1700: 5.921504\n",
      "Cost after iteration 1710: 5.921083\n",
      "Cost after iteration 1720: 5.920664\n",
      "Cost after iteration 1730: 5.920247\n",
      "Cost after iteration 1740: 5.919833\n",
      "Cost after iteration 1750: 5.919420\n",
      "Cost after iteration 1760: 5.919010\n",
      "Cost after iteration 1770: 5.918602\n",
      "Cost after iteration 1780: 5.918197\n",
      "Cost after iteration 1790: 5.917793\n",
      "Cost after iteration 1800: 5.917392\n",
      "Cost after iteration 1810: 5.916993\n",
      "Cost after iteration 1820: 5.916596\n",
      "Cost after iteration 1830: 5.916202\n",
      "Cost after iteration 1840: 5.915809\n",
      "Cost after iteration 1850: 5.915419\n",
      "Cost after iteration 1860: 5.915031\n",
      "Cost after iteration 1870: 5.914645\n",
      "Cost after iteration 1880: 5.914261\n",
      "Cost after iteration 1890: 5.913880\n",
      "Cost after iteration 1900: 5.913500\n",
      "Cost after iteration 1910: 5.913123\n",
      "Cost after iteration 1920: 5.912748\n",
      "Cost after iteration 1930: 5.912375\n",
      "Cost after iteration 1940: 5.912004\n",
      "Cost after iteration 1950: 5.911635\n",
      "Cost after iteration 1960: 5.911268\n",
      "Cost after iteration 1970: 5.910903\n",
      "Cost after iteration 1980: 5.910540\n",
      "Cost after iteration 1990: 5.910179\n",
      "Cost after iteration 2000: 5.909820\n",
      "Cost after iteration 2010: 5.909463\n",
      "Cost after iteration 2020: 5.909108\n",
      "Cost after iteration 2030: 5.908755\n",
      "Cost after iteration 2040: 5.908404\n",
      "Cost after iteration 2050: 5.908055\n",
      "Cost after iteration 2060: 5.907708\n",
      "Cost after iteration 2070: 5.907362\n",
      "Cost after iteration 2080: 5.907019\n",
      "Cost after iteration 2090: 5.906677\n",
      "Cost after iteration 2100: 5.906337\n",
      "Cost after iteration 2110: 5.905999\n",
      "Cost after iteration 2120: 5.905662\n",
      "Cost after iteration 2130: 5.905327\n",
      "Cost after iteration 2140: 5.904994\n",
      "Cost after iteration 2150: 5.904663\n",
      "Cost after iteration 2160: 5.904334\n",
      "Cost after iteration 2170: 5.904006\n",
      "Cost after iteration 2180: 5.903680\n",
      "Cost after iteration 2190: 5.903355\n",
      "Cost after iteration 2200: 5.903032\n",
      "Cost after iteration 2210: 5.902711\n",
      "Cost after iteration 2220: 5.902391\n",
      "Cost after iteration 2230: 5.902073\n",
      "Cost after iteration 2240: 5.901756\n",
      "Cost after iteration 2250: 5.901441\n",
      "Cost after iteration 2260: 5.901127\n",
      "Cost after iteration 2270: 5.900815\n",
      "Cost after iteration 2280: 5.900505\n",
      "Cost after iteration 2290: 5.900196\n",
      "Cost after iteration 2300: 5.899888\n",
      "Cost after iteration 2310: 5.899582\n",
      "Cost after iteration 2320: 5.899277\n",
      "Cost after iteration 2330: 5.898974\n",
      "Cost after iteration 2340: 5.898672\n",
      "Cost after iteration 2350: 5.898372\n",
      "Cost after iteration 2360: 5.898073\n",
      "Cost after iteration 2370: 5.897775\n",
      "Cost after iteration 2380: 5.897479\n",
      "Cost after iteration 2390: 5.897184\n",
      "Cost after iteration 2400: 5.896891\n",
      "Cost after iteration 2410: 5.896599\n",
      "Cost after iteration 2420: 5.896308\n",
      "Cost after iteration 2430: 5.896019\n",
      "Cost after iteration 2440: 5.895731\n",
      "Cost after iteration 2450: 5.895445\n",
      "Cost after iteration 2460: 5.895160\n",
      "Cost after iteration 2470: 5.894876\n",
      "Cost after iteration 2480: 5.894594\n",
      "Cost after iteration 2490: 5.894313\n",
      "Cost after iteration 2500: 5.894033\n",
      "Cost after iteration 2510: 5.893755\n",
      "Cost after iteration 2520: 5.893479\n",
      "Cost after iteration 2530: 5.893204\n",
      "Cost after iteration 2540: 5.892930\n",
      "Cost after iteration 2550: 5.892658\n",
      "Cost after iteration 2560: 5.892387\n",
      "Cost after iteration 2570: 5.892118\n",
      "Cost after iteration 2580: 5.891850\n",
      "Cost after iteration 2590: 5.891584\n",
      "Cost after iteration 2600: 5.891319\n",
      "Cost after iteration 2610: 5.891056\n",
      "Cost after iteration 2620: 5.890795\n",
      "Cost after iteration 2630: 5.890535\n",
      "Cost after iteration 2640: 5.890277\n",
      "Cost after iteration 2650: 5.890020\n",
      "Cost after iteration 2660: 5.889765\n",
      "Cost after iteration 2670: 5.889512\n",
      "Cost after iteration 2680: 5.889261\n",
      "Cost after iteration 2690: 5.889011\n",
      "Cost after iteration 2700: 5.888763\n",
      "Cost after iteration 2710: 5.888516\n",
      "Cost after iteration 2720: 5.888271\n",
      "Cost after iteration 2730: 5.888029\n",
      "Cost after iteration 2740: 5.887787\n",
      "Cost after iteration 2750: 5.887548\n",
      "Cost after iteration 2760: 5.887310\n",
      "Cost after iteration 2770: 5.887075\n",
      "Cost after iteration 2780: 5.886841\n",
      "Cost after iteration 2790: 5.886609\n",
      "Cost after iteration 2800: 5.886378\n",
      "Cost after iteration 2810: 5.886150\n",
      "Cost after iteration 2820: 5.885923\n",
      "Cost after iteration 2830: 5.885698\n",
      "Cost after iteration 2840: 5.885475\n",
      "Cost after iteration 2850: 5.885254\n",
      "Cost after iteration 2860: 5.885035\n",
      "Cost after iteration 2870: 5.884817\n",
      "Cost after iteration 2880: 5.884602\n",
      "Cost after iteration 2890: 5.884388\n",
      "Cost after iteration 2900: 5.884176\n",
      "Cost after iteration 2910: 5.883966\n",
      "Cost after iteration 2920: 5.883757\n",
      "Cost after iteration 2930: 5.883551\n",
      "Cost after iteration 2940: 5.883346\n",
      "Cost after iteration 2950: 5.883143\n",
      "Cost after iteration 2960: 5.882942\n",
      "Cost after iteration 2970: 5.882743\n",
      "Cost after iteration 2980: 5.882545\n",
      "Cost after iteration 2990: 5.882349\n",
      "Cost after iteration 3000: 5.882155\n",
      "Cost after iteration 3010: 5.881963\n",
      "Cost after iteration 3020: 5.881772\n",
      "Cost after iteration 3030: 5.881584\n",
      "Cost after iteration 3040: 5.881396\n",
      "Cost after iteration 3050: 5.881211\n",
      "Cost after iteration 3060: 5.881027\n",
      "Cost after iteration 3070: 5.880845\n",
      "Cost after iteration 3080: 5.880665\n",
      "Cost after iteration 3090: 5.880486\n",
      "Cost after iteration 3100: 5.880308\n",
      "Cost after iteration 3110: 5.880133\n",
      "Cost after iteration 3120: 5.879959\n",
      "Cost after iteration 3130: 5.879786\n",
      "Cost after iteration 3140: 5.879615\n",
      "Cost after iteration 3150: 5.879446\n",
      "Cost after iteration 3160: 5.879278\n",
      "Cost after iteration 3170: 5.879112\n",
      "Cost after iteration 3180: 5.878947\n",
      "Cost after iteration 3190: 5.878783\n",
      "Cost after iteration 3200: 5.878621\n",
      "Cost after iteration 3210: 5.878461\n",
      "Cost after iteration 3220: 5.878302\n",
      "Cost after iteration 3230: 5.878144\n",
      "Cost after iteration 3240: 5.877987\n",
      "Cost after iteration 3250: 5.877832\n",
      "Cost after iteration 3260: 5.877679\n",
      "Cost after iteration 3270: 5.877526\n",
      "Cost after iteration 3280: 5.877375\n",
      "Cost after iteration 3290: 5.877225\n",
      "Cost after iteration 3300: 5.877076\n",
      "Cost after iteration 3310: 5.876929\n",
      "Cost after iteration 3320: 5.876783\n",
      "Cost after iteration 3330: 5.876638\n",
      "Cost after iteration 3340: 5.876494\n",
      "Cost after iteration 3350: 5.876351\n",
      "Cost after iteration 3360: 5.876210\n",
      "Cost after iteration 3370: 5.876070\n",
      "Cost after iteration 3380: 5.875930\n",
      "Cost after iteration 3390: 5.875792\n",
      "Cost after iteration 3400: 5.875655\n",
      "Cost after iteration 3410: 5.875519\n",
      "Cost after iteration 3420: 5.875384\n",
      "Cost after iteration 3430: 5.875250\n",
      "Cost after iteration 3440: 5.875118\n",
      "Cost after iteration 3450: 5.874986\n",
      "Cost after iteration 3460: 5.874855\n",
      "Cost after iteration 3470: 5.874725\n",
      "Cost after iteration 3480: 5.874596\n",
      "Cost after iteration 3490: 5.874469\n",
      "Cost after iteration 3500: 5.874342\n",
      "Cost after iteration 3510: 5.874216\n",
      "Cost after iteration 3520: 5.874091\n",
      "Cost after iteration 3530: 5.873967\n",
      "Cost after iteration 3540: 5.873845\n",
      "Cost after iteration 3550: 5.873723\n",
      "Cost after iteration 3560: 5.873602\n",
      "Cost after iteration 3570: 5.873482\n",
      "Cost after iteration 3580: 5.873363\n",
      "Cost after iteration 3590: 5.873245\n",
      "Cost after iteration 3600: 5.873128\n",
      "Cost after iteration 3610: 5.873012\n",
      "Cost after iteration 3620: 5.872897\n",
      "Cost after iteration 3630: 5.872783\n",
      "Cost after iteration 3640: 5.872670\n",
      "Cost after iteration 3650: 5.872558\n",
      "Cost after iteration 3660: 5.872447\n",
      "Cost after iteration 3670: 5.872337\n",
      "Cost after iteration 3680: 5.872227\n",
      "Cost after iteration 3690: 5.872119\n",
      "Cost after iteration 3700: 5.872012\n",
      "Cost after iteration 3710: 5.871906\n",
      "Cost after iteration 3720: 5.871800\n",
      "Cost after iteration 3730: 5.871696\n",
      "Cost after iteration 3740: 5.871592\n",
      "Cost after iteration 3750: 5.871490\n",
      "Cost after iteration 3760: 5.871388\n",
      "Cost after iteration 3770: 5.871287\n",
      "Cost after iteration 3780: 5.871188\n",
      "Cost after iteration 3790: 5.871089\n",
      "Cost after iteration 3800: 5.870990\n",
      "Cost after iteration 3810: 5.870893\n",
      "Cost after iteration 3820: 5.870796\n",
      "Cost after iteration 3830: 5.870701\n",
      "Cost after iteration 3840: 5.870606\n",
      "Cost after iteration 3850: 5.870512\n",
      "Cost after iteration 3860: 5.870418\n",
      "Cost after iteration 3870: 5.870325\n",
      "Cost after iteration 3880: 5.870233\n",
      "Cost after iteration 3890: 5.870142\n",
      "Cost after iteration 3900: 5.870051\n",
      "Cost after iteration 3910: 5.869961\n",
      "Cost after iteration 3920: 5.869871\n",
      "Cost after iteration 3930: 5.869782\n",
      "Cost after iteration 3940: 5.869694\n",
      "Cost after iteration 3950: 5.869606\n",
      "Cost after iteration 3960: 5.869519\n",
      "Cost after iteration 3970: 5.869433\n",
      "Cost after iteration 3980: 5.869347\n",
      "Cost after iteration 3990: 5.869261\n",
      "Cost after iteration 4000: 5.869176\n",
      "Cost after iteration 4010: 5.869092\n",
      "Cost after iteration 4020: 5.869009\n",
      "Cost after iteration 4030: 5.868926\n",
      "Cost after iteration 4040: 5.868843\n",
      "Cost after iteration 4050: 5.868762\n",
      "Cost after iteration 4060: 5.868681\n",
      "Cost after iteration 4070: 5.868601\n",
      "Cost after iteration 4080: 5.868521\n",
      "Cost after iteration 4090: 5.868443\n",
      "Cost after iteration 4100: 5.868365\n",
      "Cost after iteration 4110: 5.868288\n",
      "Cost after iteration 4120: 5.868212\n",
      "Cost after iteration 4130: 5.868137\n",
      "Cost after iteration 4140: 5.868064\n",
      "Cost after iteration 4150: 5.867991\n",
      "Cost after iteration 4160: 5.867919\n",
      "Cost after iteration 4170: 5.867849\n",
      "Cost after iteration 4180: 5.867779\n",
      "Cost after iteration 4190: 5.867711\n",
      "Cost after iteration 4200: 5.867645\n",
      "Cost after iteration 4210: 5.867579\n",
      "Cost after iteration 4220: 5.867515\n",
      "Cost after iteration 4230: 5.867452\n",
      "Cost after iteration 4240: 5.867390\n",
      "Cost after iteration 4250: 5.867330\n",
      "Cost after iteration 4260: 5.867271\n",
      "Cost after iteration 4270: 5.867214\n",
      "Cost after iteration 4280: 5.867158\n",
      "Cost after iteration 4290: 5.867103\n",
      "Cost after iteration 4300: 5.867049\n",
      "Cost after iteration 4310: 5.866997\n",
      "Cost after iteration 4320: 5.866947\n",
      "Cost after iteration 4330: 5.866897\n",
      "Cost after iteration 4340: 5.866849\n",
      "Cost after iteration 4350: 5.866803\n",
      "Cost after iteration 4360: 5.866758\n",
      "Cost after iteration 4370: 5.866714\n",
      "Cost after iteration 4380: 5.866671\n",
      "Cost after iteration 4390: 5.866630\n",
      "Cost after iteration 4400: 5.866590\n",
      "Cost after iteration 4410: 5.866551\n",
      "Cost after iteration 4420: 5.866514\n",
      "Cost after iteration 4430: 5.866478\n",
      "Cost after iteration 4440: 5.866444\n",
      "Cost after iteration 4450: 5.866410\n",
      "Cost after iteration 4460: 5.866378\n",
      "Cost after iteration 4470: 5.866348\n",
      "Cost after iteration 4480: 5.866318\n",
      "Cost after iteration 4490: 5.866290\n",
      "Cost after iteration 4500: 5.866263\n",
      "Cost after iteration 4510: 5.866238\n",
      "Cost after iteration 4520: 5.866213\n",
      "Cost after iteration 4530: 5.866190\n",
      "Cost after iteration 4540: 5.866168\n",
      "Cost after iteration 4550: 5.866147\n",
      "Cost after iteration 4560: 5.866128\n",
      "Cost after iteration 4570: 5.866110\n",
      "Cost after iteration 4580: 5.866092\n",
      "Cost after iteration 4590: 5.866076\n",
      "Cost after iteration 4600: 5.866062\n",
      "Cost after iteration 4610: 5.866048\n",
      "Cost after iteration 4620: 5.866035\n",
      "Cost after iteration 4630: 5.866024\n",
      "Cost after iteration 4640: 5.866014\n",
      "Cost after iteration 4650: 5.866004\n",
      "Cost after iteration 4660: 5.865996\n",
      "Cost after iteration 4670: 5.865989\n",
      "Cost after iteration 4680: 5.865983\n",
      "Cost after iteration 4690: 5.865977\n",
      "Cost after iteration 4700: 5.865973\n",
      "Cost after iteration 4710: 5.865970\n",
      "Cost after iteration 4720: 5.865968\n",
      "Cost after iteration 4730: 5.865966\n",
      "Cost after iteration 4740: 5.865966\n",
      "Cost after iteration 4750: 5.865967\n",
      "Cost after iteration 4760: 5.865968\n",
      "Cost after iteration 4770: 5.865970\n",
      "Cost after iteration 4780: 5.865974\n",
      "Cost after iteration 4790: 5.865978\n",
      "Cost after iteration 4800: 5.865983\n",
      "Cost after iteration 4810: 5.865988\n",
      "Cost after iteration 4820: 5.865995\n",
      "Cost after iteration 4830: 5.866003\n",
      "Cost after iteration 4840: 5.866011\n",
      "Cost after iteration 4850: 5.866020\n",
      "Cost after iteration 4860: 5.866030\n",
      "Cost after iteration 4870: 5.866041\n",
      "Cost after iteration 4880: 5.866052\n",
      "Cost after iteration 4890: 5.866065\n",
      "Cost after iteration 4900: 5.866078\n",
      "Cost after iteration 4910: 5.866092\n",
      "Cost after iteration 4920: 5.866107\n",
      "Cost after iteration 4930: 5.866122\n",
      "Cost after iteration 4940: 5.866138\n",
      "Cost after iteration 4950: 5.866155\n",
      "Cost after iteration 4960: 5.866173\n",
      "Cost after iteration 4970: 5.866192\n",
      "Cost after iteration 4980: 5.866211\n",
      "Cost after iteration 4990: 5.866232\n"
     ]
    },
    {
     "data": {
      "image/png": "[encoded data removed]",
      "text/plain": [
       "<Figure size 432x288 with 1 Axes>"
      ]
     },
     "metadata": {
      "needs_background": "light"
     },
     "output_type": "display_data"
    }
   ],
   "source": [
    "layer_dims = [12288,6,3] # 4-layer\n",
    "parameters = L_layer_model(train_x,y_train,layer_dims,num_iterations=5000, learning_rate = 0.00001,\n",
    "                   beta1 = 0.9, beta2 = 0.999,  epsilon = 1e-8, print_cost = True)"
   ]
  },
  {
   "cell_type": "code",
   "execution_count": 283,
   "metadata": {},
   "outputs": [],
   "source": [
    "def predict(X, y, parameters):\n",
    "    \n",
    "    m = X.shape[1]\n",
    "    n = len(parameters) // 2 # number of layers in the neural network\n",
    "    p = []\n",
    "    \n",
    "    # Forward propagation\n",
    "    probas, caches = L_model_forward(X, parameters)\n",
    "    \n",
    "    probas = np.argmax(probas, axis = 0)\n",
    "    \n",
    "    y = np.argmax(y, axis = 0)\n",
    "    \n",
    "    probas = probas.reshape(probas.shape[0], 1)\n",
    "    y = y.reshape(y.shape[0], 1)\n",
    "    print(\"Prediction AL shape: \" + str(probas.shape))\n",
    "    print(\"Label y shape: \" + str(y.shape))\n",
    "    \n",
    "    for i in range(0, probas.shape[1]):\n",
    "        \n",
    "        if probas[i,0] == y[i,0]:\n",
    "            p.append(1)\n",
    "        \n",
    "        else:\n",
    "            p.append(0)\n",
    "                    \n",
    "    p = np.array(p)\n",
    "    \n",
    "    #print results\n",
    "    #print (\"predictions: \" + str(p))\n",
    "    #print (\"true labels: \" + str(y))\n",
    "    print(\"Accuracy: \"  + str(np.sum((p == y)/m)))\n",
    "        \n",
    "    return p"
   ]
  },
  {
   "cell_type": "code",
   "execution_count": 285,
   "metadata": {},
   "outputs": [
    {
     "name": "stdout",
     "output_type": "stream",
     "text": [
      "Prediction AL shape: (435, 1)\n",
      "Label y shape: (435, 1)\n",
      "Accuracy: 0.28045977011494255\n"
     ]
    },
    {
     "data": {
      "text/plain": [
       "array([0])"
      ]
     },
     "execution_count": 285,
     "metadata": {},
     "output_type": "execute_result"
    }
   ],
   "source": [
    "predict(train_x, y_train, parameters)"
   ]
  },
  {
   "cell_type": "code",
   "execution_count": null,
   "metadata": {},
   "outputs": [],
   "source": []
  }
 ],
 "metadata": {
  "kernelspec": {
   "display_name": "Python 3",
   "language": "python",
   "name": "python3"
  },
  "language_info": {
   "codemirror_mode": {
    "name": "ipython",
    "version": 3
   },
   "file_extension": ".py",
   "mimetype": "text/x-python",
   "name": "python",
   "nbconvert_exporter": "python",
   "pygments_lexer": "ipython3",
   "version": "3.7.3"
  }
 },
 "nbformat": 4,
 "nbformat_minor": 4
}

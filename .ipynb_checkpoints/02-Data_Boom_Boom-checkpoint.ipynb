{
 "cells": [
  {
   "cell_type": "markdown",
   "metadata": {},
   "source": [
    "## Data Augmentation\n",
    "\n",
    "Flip data from origin folder and put it in destination folder, also rename the flipped images. \n",
    "\n",
    "You can copy and paste original data into destination folder to create new dataset **or** create a script here to do that."
   ]
  },
  {
   "cell_type": "code",
   "execution_count": 1,
   "metadata": {},
   "outputs": [],
   "source": [
    "import os\n",
    "import cv2"
   ]
  },
  {
   "cell_type": "code",
   "execution_count": 2,
   "metadata": {},
   "outputs": [
    {
     "data": {
      "text/plain": [
       "'C:\\\\Users\\\\Omkar\\\\ML and DS\\\\Dog'"
      ]
     },
     "execution_count": 2,
     "metadata": {},
     "output_type": "execute_result"
    }
   ],
   "source": [
    "os.getcwd()"
   ]
  },
  {
   "cell_type": "code",
   "execution_count": 3,
   "metadata": {},
   "outputs": [],
   "source": [
    "files_orig  = [\"Bloodhound\", \"Chow\", \"ShihTzu\", \"Siberian_husky\"]"
   ]
  },
  {
   "cell_type": "code",
   "execution_count": 4,
   "metadata": {},
   "outputs": [],
   "source": [
    "files_dest = [\"Bloodhound1\", \"Chow1\", \"ShihTzu1\", \"Siberian_husky1\"]"
   ]
  },
  {
   "cell_type": "code",
   "execution_count": 5,
   "metadata": {},
   "outputs": [],
   "source": [
    "collection = \"C:/Users/Omkar/ML and DS/Dog/dataset/\""
   ]
  },
  {
   "cell_type": "code",
   "execution_count": 16,
   "metadata": {},
   "outputs": [
    {
     "name": "stdout",
     "output_type": "stream",
     "text": [
      "C:/Users/Omkar/ML and DS/Dog/dataset/Bloodhound/\n",
      "C:/Users/Omkar/ML and DS/Dog/dataset/Bloodhound1/\n",
      "C:/Users/Omkar/ML and DS/Dog/dataset/Chow/\n",
      "C:/Users/Omkar/ML and DS/Dog/dataset/Chow1/\n",
      "C:/Users/Omkar/ML and DS/Dog/dataset/ShihTzu/\n",
      "C:/Users/Omkar/ML and DS/Dog/dataset/ShihTzu1/\n",
      "C:/Users/Omkar/ML and DS/Dog/dataset/Siberian_husky/\n",
      "C:/Users/Omkar/ML and DS/Dog/dataset/Siberian_husky1/\n"
     ]
    }
   ],
   "source": [
    "for i in files_orig:\n",
    "    collection = \"C:/Users/Omkar/ML and DS/Dog/dataset/\"\n",
    "    dest = \"C:/Users/Omkar/ML and DS/Dog/dataset/\"\n",
    "    collection = collection + i + \"/\"\n",
    "    dest = dest + i + \"1/\"\n",
    "    print(collection)\n",
    "    print(dest)\n",
    "    for i in os.listdir(collection):\n",
    "        img = cv2.imread(collection + i)\n",
    "        img_flip_lr = cv2.flip(img, 1)\n",
    "        cv2.imwrite(str(dest)+str(i),\n",
    "                img_flip_lr)\n",
    "    for i,filename in enumerate(os.listdir(dest)):\n",
    "        os.rename(str(dest)+filename,\n",
    "             str(dest)+str(i+1000)+\n",
    "              \".jpg\")"
   ]
  },
  {
   "cell_type": "code",
   "execution_count": 4,
   "metadata": {},
   "outputs": [],
   "source": [
    "# Flip\n",
    "'''for i in os.listdir(collection):\n",
    "    img = cv2.imread(collection + i)\n",
    "    img_flip_lr = cv2.flip(img, 1)\n",
    "    cv2.imwrite(\"C:/Users/Omkar/ML and DS/Dog/dataset/Pug1/\"+str(i),\n",
    "                img_flip_lr)'''"
   ]
  },
  {
   "cell_type": "code",
   "execution_count": 5,
   "metadata": {},
   "outputs": [],
   "source": [
    "# Rename\n",
    "'''collection = \"C:/Users/Omkar/ML and DS/Dog/dataset/Pug1\"\n",
    "for i,filename in enumerate(os.listdir(collection)):\n",
    "    os.rename(\"C:/Users/Omkar/ML and DS/Dog/dataset/Pug1/\"+filename,\n",
    "             \"C:/Users/Omkar/ML and DS/Dog/dataset/Pug1/\"+str(i+1000)+\n",
    "              \".jpg\")'''"
   ]
  },
  {
   "cell_type": "code",
   "execution_count": null,
   "metadata": {},
   "outputs": [],
   "source": []
  }
 ],
 "metadata": {
  "kernelspec": {
   "display_name": "Python 3",
   "language": "python",
   "name": "python3"
  },
  "language_info": {
   "codemirror_mode": {
    "name": "ipython",
    "version": 3
   },
   "file_extension": ".py",
   "mimetype": "text/x-python",
   "name": "python",
   "nbconvert_exporter": "python",
   "pygments_lexer": "ipython3",
   "version": "3.7.3"
  }
 },
 "nbformat": 4,
 "nbformat_minor": 2
}

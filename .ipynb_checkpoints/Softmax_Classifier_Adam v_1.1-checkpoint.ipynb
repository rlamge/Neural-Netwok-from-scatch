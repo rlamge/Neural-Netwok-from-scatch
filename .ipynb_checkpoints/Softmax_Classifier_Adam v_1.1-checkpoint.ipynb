{
 "cells": [
  {
   "cell_type": "markdown",
   "metadata": {
    "colab_type": "text",
    "id": "biKcJVRzbFF1"
   },
   "source": [
    "# Dog Breed Classification using Softmax"
   ]
  },
  {
   "cell_type": "code",
   "execution_count": null,
   "metadata": {},
   "outputs": [],
   "source": []
  },
  {
   "cell_type": "code",
   "execution_count": null,
   "metadata": {},
   "outputs": [],
   "source": []
  },
  {
   "cell_type": "code",
   "execution_count": null,
   "metadata": {},
   "outputs": [],
   "source": []
  },
  {
   "cell_type": "code",
   "execution_count": null,
   "metadata": {},
   "outputs": [],
   "source": []
  },
  {
   "cell_type": "code",
   "execution_count": null,
   "metadata": {},
   "outputs": [],
   "source": []
  },
  {
   "cell_type": "code",
   "execution_count": null,
   "metadata": {},
   "outputs": [],
   "source": []
  },
  {
   "cell_type": "code",
   "execution_count": null,
   "metadata": {},
   "outputs": [],
   "source": []
  },
  {
   "cell_type": "code",
   "execution_count": null,
   "metadata": {},
   "outputs": [],
   "source": []
  },
  {
   "cell_type": "code",
   "execution_count": null,
   "metadata": {},
   "outputs": [],
   "source": []
  },
  {
   "cell_type": "code",
   "execution_count": null,
   "metadata": {},
   "outputs": [],
   "source": []
  },
  {
   "cell_type": "markdown",
   "metadata": {},
   "source": [
    "### Imports"
   ]
  },
  {
   "cell_type": "code",
   "execution_count": 47,
   "metadata": {
    "colab": {},
    "colab_type": "code",
    "id": "XynEVz9htI_K"
   },
   "outputs": [],
   "source": [
    "import numpy as np\n",
    "import os\n",
    "import cv2\n",
    "import matplotlib.pyplot as plt\n",
    "import random\n",
    "from sklearn.model_selection import train_test_split\n",
    "from sklearn.metrics import accuracy_score\n",
    "\n",
    "%matplotlib inline"
   ]
  },
  {
   "cell_type": "markdown",
   "metadata": {},
   "source": [
    "### Directory"
   ]
  },
  {
   "cell_type": "code",
   "execution_count": 84,
   "metadata": {
    "colab": {
     "base_uri": "https://localhost:8080/",
     "height": 85
    },
    "colab_type": "code",
    "id": "g_9qmlBfbIfi",
    "outputId": "29c302fb-0928-4817-e006-418cb3cc44e3"
   },
   "outputs": [],
   "source": [
    "DATADIR = \"C:/Dataset/Softmax\"\n",
    "CATEGORIES = [\"German\",\"Husky\",\"Pug\"]\n",
    "img_size = 64"
   ]
  },
  {
   "cell_type": "markdown",
   "metadata": {},
   "source": [
    "### Loading Dataset"
   ]
  },
  {
   "cell_type": "code",
   "execution_count": 86,
   "metadata": {
    "colab": {
     "base_uri": "https://localhost:8080/",
     "height": 51
    },
    "colab_type": "code",
    "id": "64cLOTyJqQ7-",
    "outputId": "24116110-fd31-415f-b2b6-ef257af3aae0"
   },
   "outputs": [],
   "source": [
    "data = []\n",
    "\n",
    "def load_data():\n",
    "    for category in CATEGORIES:\n",
    "        \n",
    "        path = os.path.join(DATADIR, category)\n",
    "        class_num = CATEGORIES.index(category)\n",
    "        \n",
    "        for img in os.listdir(path):\n",
    "            \n",
    "            img_array = cv2.imread(os.path.join(path, img))\n",
    "            new_array = cv2.resize(img_array,(img_size,img_size))\n",
    "            data.append([new_array, class_num])"
   ]
  },
  {
   "cell_type": "code",
   "execution_count": 87,
   "metadata": {},
   "outputs": [
    {
     "name": "stdout",
     "output_type": "stream",
     "text": [
      "No. of images: 1088\n"
     ]
    }
   ],
   "source": [
    "load_data()\n",
    "print(\"No. of images: \" + str(len(data)))\n",
    "random.shuffle(data)"
   ]
  },
  {
   "cell_type": "markdown",
   "metadata": {},
   "source": [
    "### Sorting Data and Labels"
   ]
  },
  {
   "cell_type": "code",
   "execution_count": null,
   "metadata": {},
   "outputs": [],
   "source": [
    "X = []\n",
    "y_unsorted = []\n",
    "\n",
    "for features, label in data:\n",
    "    \n",
    "    X.append(features)\n",
    "    y_unsorted.append(label)"
   ]
  },
  {
   "cell_type": "code",
   "execution_count": 2,
   "metadata": {},
   "outputs": [],
   "source": [
    "def one_hot(labels,C):\n",
    "    mapping = {}\n",
    "    for i in range(C):\n",
    "        mapping[i]=i\n",
    "    one_hot_encode = []\n",
    "    for l in labels:\n",
    "        arr = list(np.zeros(C, dtype = int))\n",
    "        arr[mapping[l]] = 1\n",
    "        one_hot_encode.append(arr)\n",
    "    return one_hot_encode"
   ]
  },
  {
   "cell_type": "code",
   "execution_count": 90,
   "metadata": {},
   "outputs": [],
   "source": [
    "y = one_hot(y_unsorted,len(CATEGORIES))"
   ]
  },
  {
   "cell_type": "code",
   "execution_count": 91,
   "metadata": {},
   "outputs": [
    {
     "name": "stdout",
     "output_type": "stream",
     "text": [
      "Shape of X = (1088, 64, 64, 3)\n",
      "Shape of y = (1088, 3)\n"
     ]
    }
   ],
   "source": [
    "X = np.array(X)\n",
    "y = np.array(y)\n",
    "\n",
    "print(\"Shape of X = \"+ str(X.shape))\n",
    "print(\"Shape of y = \" + str(y.shape))"
   ]
  },
  {
   "cell_type": "code",
   "execution_count": 92,
   "metadata": {},
   "outputs": [],
   "source": [
    "x_train,x_test,y_train,y_test=train_test_split(X,y,test_size=0.2)"
   ]
  },
  {
   "cell_type": "code",
   "execution_count": 93,
   "metadata": {},
   "outputs": [],
   "source": [
    "y_train = y_train.T \n",
    "y_test = y_test.T"
   ]
  },
  {
   "cell_type": "code",
   "execution_count": 94,
   "metadata": {},
   "outputs": [
    {
     "name": "stdout",
     "output_type": "stream",
     "text": [
      "Number of training examples: m_train = 870\n",
      "Number of testing examples: m_test = 218\n",
      "Height/Width of each image: num_px = 64\n",
      "Each image is of size: (64, 64, 3)\n",
      "train_set_x shape: (870, 64, 64, 3)\n",
      "train_set_y shape: (3, 870)\n",
      "test_set_x shape: (218, 64, 64, 3)\n",
      "test_set_y shape: (3, 218)\n"
     ]
    }
   ],
   "source": [
    "m_train = x_train.shape[0]\n",
    "m_test = x_test.shape[0]\n",
    "num_px = x_train.shape[1]\n",
    "\n",
    "print (\"Number of training examples: m_train = \" + str(m_train))\n",
    "print (\"Number of testing examples: m_test = \" + str(m_test))\n",
    "print (\"Height/Width of each image: num_px = \" + str(num_px))\n",
    "print (\"Each image is of size: (\" + str(num_px) + \", \" + str(num_px) + \", 3)\")\n",
    "print (\"train_set_x shape: \" + str(x_train.shape))\n",
    "print (\"train_set_y shape: \" + str(y_train.shape))\n",
    "print (\"test_set_x shape: \" + str(x_test.shape))\n",
    "print (\"test_set_y shape: \" + str(y_test.shape))"
   ]
  },
  {
   "cell_type": "code",
   "execution_count": 95,
   "metadata": {},
   "outputs": [
    {
     "name": "stdout",
     "output_type": "stream",
     "text": [
      "train_set_x_flatten shape: (12288, 870)\n",
      "train_set_y shape: (3, 870)\n",
      "test_set_x_flatten shape: (12288, 218)\n",
      "test_set_y shape: (3, 218)\n",
      "sanity check after reshaping: [254 254 254 254 254]\n"
     ]
    }
   ],
   "source": [
    "train_set_x_flatten = x_train.reshape(x_train.shape[0], -1).T\n",
    "test_set_x_flatten = x_test.reshape(x_test.shape[0], -1).T\n",
    "\n",
    "print (\"train_set_x_flatten shape: \" + str(train_set_x_flatten.shape))\n",
    "print (\"train_set_y shape: \" + str(y_train.shape))\n",
    "print (\"test_set_x_flatten shape: \" + str(test_set_x_flatten.shape))\n",
    "print (\"test_set_y shape: \" + str(y_test.shape))\n",
    "print (\"sanity check after reshaping: \" + str(train_set_x_flatten[0:5,0]))"
   ]
  },
  {
   "cell_type": "code",
   "execution_count": 96,
   "metadata": {},
   "outputs": [],
   "source": [
    "x_train = train_set_x_flatten/255.\n",
    "x_test = test_set_x_flatten/255."
   ]
  },
  {
   "cell_type": "code",
   "execution_count": null,
   "metadata": {},
   "outputs": [],
   "source": []
  },
  {
   "cell_type": "code",
   "execution_count": null,
   "metadata": {},
   "outputs": [],
   "source": []
  },
  {
   "cell_type": "code",
   "execution_count": null,
   "metadata": {
    "colab": {},
    "colab_type": "code",
    "id": "MYCrMOuccJmt"
   },
   "outputs": [],
   "source": []
  },
  {
   "cell_type": "code",
   "execution_count": 97,
   "metadata": {
    "colab": {},
    "colab_type": "code",
    "id": "NTsIwkOUfP3h"
   },
   "outputs": [],
   "source": [
    "def init_params(layer_dims):\n",
    "    \n",
    "    parameters = {}\n",
    "    L = len(layer_dims)\n",
    "    \n",
    "    for l in range(1, L):\n",
    "        parameters['W' + str(l)] = np.random.randn(layer_dims[l], layer_dims[l-1]) * (np.sqrt(2. / layer_dims[l-1]))\n",
    "        parameters['b' + str(l)] = np.zeros((layer_dims[l], 1))\n",
    "        \n",
    "    return parameters"
   ]
  },
  {
   "cell_type": "code",
   "execution_count": 98,
   "metadata": {},
   "outputs": [],
   "source": [
    "def initialize_adam(parameters) :\n",
    "\n",
    "    L = len(parameters) // 2 \n",
    "    v = {}\n",
    "    s = {}\n",
    "    \n",
    "    for l in range(L):\n",
    "\n",
    "        v[\"dW\" + str(l+1)] = np.zeros(parameters[\"W\" + str(l+1)].shape)\n",
    "        v[\"db\" + str(l+1)] = np.zeros(parameters[\"b\" + str(l+1)].shape)\n",
    "        s[\"dW\" + str(l+1)] = np.zeros(parameters[\"W\" + str(l+1)].shape)\n",
    "        s[\"db\" + str(l+1)] = np.zeros(parameters[\"b\" + str(l+1)].shape)\n",
    "    \n",
    "    return v, s"
   ]
  },
  {
   "cell_type": "code",
   "execution_count": 99,
   "metadata": {
    "colab": {},
    "colab_type": "code",
    "id": "roz7tnESicfO"
   },
   "outputs": [],
   "source": [
    "def relu(Z):\n",
    "    \n",
    "    A = np.maximum(0, Z)\n",
    "    cache = Z\n",
    "    \n",
    "    return A, cache"
   ]
  },
  {
   "cell_type": "code",
   "execution_count": 100,
   "metadata": {
    "colab": {},
    "colab_type": "code",
    "id": "Irs5R29uiose"
   },
   "outputs": [],
   "source": [
    "def relu_backward(dA, cache):\n",
    "    \n",
    "    Z = cache\n",
    "    dZ = np.array(dA, copy=True)\n",
    "    dZ[Z <= 0] = 0\n",
    "  \n",
    "    return dZ"
   ]
  },
  {
   "cell_type": "code",
   "execution_count": 101,
   "metadata": {
    "colab": {},
    "colab_type": "code",
    "id": "shMZanw5pBHm"
   },
   "outputs": [],
   "source": [
    "def sigmoid(Z):\n",
    "    \n",
    "    A = 1 / (1+np.exp(-Z))\n",
    "    cache = Z \n",
    "    \n",
    "    return A, cache"
   ]
  },
  {
   "cell_type": "code",
   "execution_count": 102,
   "metadata": {
    "colab": {},
    "colab_type": "code",
    "id": "bE-mfy-fp1Pa"
   },
   "outputs": [],
   "source": [
    "def sigmoid_backward(dA, cache):\n",
    "    \n",
    "    Z = cache\n",
    "    s = 1/(1+np.exp(-Z))\n",
    "    dZ = dA * s * (1 - s)\n",
    "    \n",
    "    return dZ"
   ]
  },
  {
   "cell_type": "code",
   "execution_count": 103,
   "metadata": {
    "colab": {},
    "colab_type": "code",
    "id": "lG7fAaB8iz3I"
   },
   "outputs": [],
   "source": [
    "def softmax(Z):\n",
    "    \n",
    "    e_x = np.exp(Z - np.max(Z))\n",
    "    A = e_x / e_x.sum(axis=0, keepdims=True)\n",
    "    cache = Z\n",
    "    \n",
    "    return A, cache"
   ]
  },
  {
   "cell_type": "code",
   "execution_count": 104,
   "metadata": {
    "colab": {},
    "colab_type": "code",
    "id": "Z8qGhEoEG7vT"
   },
   "outputs": [],
   "source": [
    "def sigmoid_derivative(Z):\n",
    "    \n",
    "    s = 1 / (1 + np.exp(-Z))\n",
    "    \n",
    "    return s * (1 - s)"
   ]
  },
  {
   "cell_type": "code",
   "execution_count": 105,
   "metadata": {
    "colab": {},
    "colab_type": "code",
    "id": "QZJ02w-3iXjv"
   },
   "outputs": [],
   "source": [
    "def linear_forward(A, W, b):\n",
    "    \n",
    "    Z = W.dot(A) + b\n",
    "    cache = (A, W, b)\n",
    "    \n",
    "    return Z, cache"
   ]
  },
  {
   "cell_type": "code",
   "execution_count": 106,
   "metadata": {
    "colab": {},
    "colab_type": "code",
    "id": "hPO4l__UhgC0"
   },
   "outputs": [],
   "source": [
    "def linear_activation_forward(A_prev, W, b, activation):\n",
    "    \n",
    "    if activation == \"relu\":\n",
    "        \n",
    "        Z, linear_cache = linear_forward(A_prev, W, b)\n",
    "        A, activation_cache = relu(Z)\n",
    "\n",
    "    if activation == \"sigmoid\":\n",
    "        \n",
    "        Z, linear_cache = linear_forward(A_prev, W, b)\n",
    "        A, activation_cache = sigmoid(Z)\n",
    "        \n",
    "    if activation == \"softmax\":\n",
    "        \n",
    "        Z, linear_cache = linear_forward(A_prev, W, b)\n",
    "        A, activation_cache = softmax(Z)\n",
    "\n",
    "    cache = (linear_cache, activation_cache)\n",
    "    return A, cache"
   ]
  },
  {
   "cell_type": "code",
   "execution_count": 107,
   "metadata": {
    "colab": {},
    "colab_type": "code",
    "id": "xqmA7DD0gqQT"
   },
   "outputs": [],
   "source": [
    "def forwardpass(X, parameters):\n",
    "    \n",
    "    caches = []\n",
    "    A = X\n",
    "    L = len(parameters) // 2\n",
    "  \n",
    "    for l in range(1, L):\n",
    "        \n",
    "        A_prev = A\n",
    "        A, cache = linear_activation_forward(A_prev, parameters['W' + str(l)], parameters[\"b\" + str(l)], activation=\"sigmoid\")\n",
    "        caches.append(cache)\n",
    "  \n",
    "    AL, cache = linear_activation_forward(A, parameters[\"W\" + str(L)], parameters[\"b\" + str(L)], activation=\"softmax\")\n",
    "    caches.append(cache)\n",
    "\n",
    "    return AL, caches"
   ]
  },
  {
   "cell_type": "code",
   "execution_count": 108,
   "metadata": {},
   "outputs": [],
   "source": [
    "def compute_cost(Y, AL):\n",
    "    \n",
    "    cost = -np.mean(Y * np.log(AL + 1e-8))\n",
    "    \n",
    "    return cost"
   ]
  },
  {
   "cell_type": "code",
   "execution_count": 109,
   "metadata": {
    "colab": {},
    "colab_type": "code",
    "id": "LZJeEcq7od43"
   },
   "outputs": [],
   "source": [
    "def linear_backward(dZ, cache):\n",
    "    \n",
    "    A_prev, W, b = cache\n",
    "    n = A_prev.shape[1]\n",
    "\n",
    "    dW = 1./n * np.dot(dZ, A_prev.T)\n",
    "    db = 1./n * np.sum(dZ, axis=1, keepdims=True)\n",
    "    dA_prev = np.dot(W.T, dZ)\n",
    "\n",
    "    return dA_prev, dW, db"
   ]
  },
  {
   "cell_type": "code",
   "execution_count": 110,
   "metadata": {
    "colab": {},
    "colab_type": "code",
    "id": "-b-iYkz4n7QE"
   },
   "outputs": [],
   "source": [
    "def linear_activation_backward(dA, cache, activation):\n",
    "    \n",
    "    linear_cache, activation_cache = cache\n",
    "  \n",
    "    if activation == \"relu\":\n",
    "        \n",
    "        dZ = relu_backward(dA, activation_cache)\n",
    "        \n",
    "    if activation == \"sigmoid\":\n",
    "        \n",
    "        dZ = sigmoid_backward(dA, activation_cache)\n",
    "        \n",
    "    elif activation == \"softmax\":\n",
    "        \n",
    "        dZ = dA\n",
    "  \n",
    "    dA_prev, dW, db = linear_backward(dZ, linear_cache)\n",
    "    \n",
    "    return dA_prev, dW, db"
   ]
  },
  {
   "cell_type": "code",
   "execution_count": 111,
   "metadata": {
    "colab": {},
    "colab_type": "code",
    "id": "SycGYYdFkgWZ"
   },
   "outputs": [],
   "source": [
    "def backwardpass(AL, Y, caches):\n",
    "    \n",
    "    grads = {}\n",
    "    L = len(caches)\n",
    "    n = AL.shape[1]\n",
    "    Y = Y.reshape(AL.shape)\n",
    "    dAL = AL - Y\n",
    "    curr_cache = caches[L-1]\n",
    "    \n",
    "    grads[\"dA\" + str(L-1)], grads[\"dW\" + str(L)], grads[\"db\" + str(L)] = linear_activation_backward(dAL, curr_cache, activation=\"softmax\")\n",
    "\n",
    "    for l in reversed(range(L-1)):\n",
    "        \n",
    "        curr_cache = caches[l]\n",
    "        dA_prev, dW, db = linear_activation_backward(grads[\"dA\" + str(l+1)], curr_cache, activation = \"sigmoid\")\n",
    "        \n",
    "        grads[\"dA\" + str(l)] = dA_prev\n",
    "        grads[\"dW\" + str(l + 1)] = dW\n",
    "        grads[\"db\" + str(l + 1)] = db \n",
    "\n",
    "    return grads"
   ]
  },
  {
   "cell_type": "code",
   "execution_count": 112,
   "metadata": {
    "colab": {},
    "colab_type": "code",
    "id": "2IqWdqTgoyJW"
   },
   "outputs": [],
   "source": [
    "def update_parameters(parameters, grads, learning_rate):\n",
    "    \n",
    "    L = len(parameters) // 2\n",
    "    \n",
    "    for l in range(1,L+1):\n",
    "        \n",
    "        parameters[\"W\" + str(l)] = parameters[\"W\" + str(l)] - learning_rate * grads[\"dW\" + str(l)]\n",
    "        parameters[\"b\" + str(l)] = parameters[\"b\" + str(l)] - learning_rate * grads[\"db\" + str(l)]\n",
    "        \n",
    "    return parameters"
   ]
  },
  {
   "cell_type": "code",
   "execution_count": 113,
   "metadata": {},
   "outputs": [],
   "source": [
    "def update_parameters_with_adam(parameters, grads, v, s, t, learning_rate = 0.01,\n",
    "                                beta1 = 0.9, beta2 = 0.999,  epsilon = 1e-8):\n",
    "\n",
    "    L = len(parameters) // 2                 \n",
    "    v_corrected = {}                         \n",
    "    s_corrected = {}                         \n",
    "    \n",
    "    for l in range(L):\n",
    "\n",
    "        v[\"dW\" + str(l+1)] = beta1*v[\"dW\" + str(l+1)] + (1-beta1)*grads['dW' + str(l+1)]\n",
    "        v[\"db\" + str(l+1)] = beta1*v[\"db\" + str(l+1)] + (1-beta1)*grads['db' + str(l+1)]\n",
    "\n",
    "        v_corrected[\"dW\" + str(l+1)] = v[\"dW\" + str(l+1)]/(1-np.power(beta1,t))\n",
    "        v_corrected[\"db\" + str(l+1)] = v[\"db\" + str(l+1)]/(1-np.power(beta1,t))\n",
    "\n",
    "        s[\"dW\" + str(l+1)] = beta2*s[\"dW\" + str(l+1)]+(1-beta2)*np.power(grads['dW' + str(l+1)],2)\n",
    "        s[\"db\" + str(l+1)] = beta2*s[\"db\" + str(l+1)]+(1-beta2)*np.power(grads['db' + str(l+1)],2)\n",
    "\n",
    "        s_corrected[\"dW\" + str(l+1)] = s[\"dW\" + str(l+1)]/(1-np.power(beta2,t))\n",
    "        s_corrected[\"db\" + str(l+1)] = s[\"db\" + str(l+1)]/(1-np.power(beta2,t))\n",
    "\n",
    "        parameters[\"W\" + str(l+1)] = parameters[\"W\" + str(l+1)]-learning_rate*v_corrected[\"dW\" + str(l+1)]/np.sqrt(s_corrected[\"dW\" + str(l+1)] +epsilon)\n",
    "        parameters[\"b\" + str(l+1)] = parameters[\"b\" + str(l+1)]-learning_rate*v_corrected[\"db\" + str(l+1)]/np.sqrt(s_corrected[\"db\" + str(l+1)]+epsilon)\n",
    "\n",
    "    return parameters, v, s"
   ]
  },
  {
   "cell_type": "code",
   "execution_count": 114,
   "metadata": {
    "colab": {},
    "colab_type": "code",
    "id": "J7jIXGl9dWNA"
   },
   "outputs": [],
   "source": [
    "def model(X, Y, layer_dims, learning_rate = 0.001, epochs = 5, print_cost = True):\n",
    "    \n",
    "    costs = []\n",
    "    t = 0\n",
    "    \n",
    "    parameters = init_params(layer_dims)\n",
    "    v, s = initialize_adam(parameters)\n",
    "    \n",
    "    \n",
    "    for i in range(epochs):\n",
    "        AL, caches = forwardpass(X, parameters)\n",
    "        cost = compute_cost(Y, AL) \n",
    "        grads = backwardpass(AL, Y, caches)\n",
    "        #parameters = update_parameters(parameters, grads, learning_rate)\n",
    "        t = t + 1\n",
    "        parameters, v, s = update_parameters_with_adam(parameters, grads, v, s, t, learning_rate = 0.01,\n",
    "                                beta1 = 0.9, beta2 = 0.999,  epsilon = 1e-8)\n",
    "\n",
    "        if print_cost and i % 10 == 0:\n",
    "            print(\"Cost after iteration %i: %f\" % (i, cost))\n",
    "        if i % 5 == 0:\n",
    "            costs.append(cost)\n",
    "\n",
    "    plt.plot(np.squeeze(costs))\n",
    "    plt.ylabel('cost')\n",
    "    plt.xlabel('iterations (per 10s)')\n",
    "    plt.title(\"Learning rate = \" + str(learning_rate))\n",
    "    plt.show()\n",
    "\n",
    "    return parameters"
   ]
  },
  {
   "cell_type": "code",
   "execution_count": 122,
   "metadata": {
    "colab": {
     "base_uri": "https://localhost:8080/",
     "height": 465
    },
    "colab_type": "code",
    "id": "lw8J0HgwpJ-5",
    "outputId": "093ceb3f-e8b6-4abd-acaa-46e1e33808c9"
   },
   "outputs": [
    {
     "name": "stdout",
     "output_type": "stream",
     "text": [
      "Cost after iteration 0: 0.383885\n",
      "Cost after iteration 10: 0.409450\n",
      "Cost after iteration 20: 0.371684\n",
      "Cost after iteration 30: 0.360654\n",
      "Cost after iteration 40: 0.353571\n",
      "Cost after iteration 50: 0.349047\n",
      "Cost after iteration 60: 0.338185\n",
      "Cost after iteration 70: 0.331147\n",
      "Cost after iteration 80: 0.330220\n",
      "Cost after iteration 90: 0.322552\n",
      "Cost after iteration 100: 0.318769\n",
      "Cost after iteration 110: 0.314428\n",
      "Cost after iteration 120: 0.312284\n",
      "Cost after iteration 130: 0.309856\n",
      "Cost after iteration 140: 0.337883\n",
      "Cost after iteration 150: 0.319034\n",
      "Cost after iteration 160: 0.307202\n",
      "Cost after iteration 170: 0.306342\n",
      "Cost after iteration 180: 0.304029\n",
      "Cost after iteration 190: 0.303072\n",
      "Cost after iteration 200: 0.302472\n",
      "Cost after iteration 210: 0.302089\n",
      "Cost after iteration 220: 0.301537\n",
      "Cost after iteration 230: 0.301054\n",
      "Cost after iteration 240: 0.300890\n",
      "Cost after iteration 250: 0.306155\n",
      "Cost after iteration 260: 0.296719\n",
      "Cost after iteration 270: 0.299489\n",
      "Cost after iteration 280: 0.303398\n",
      "Cost after iteration 290: 0.319919\n",
      "Cost after iteration 300: 0.295682\n",
      "Cost after iteration 310: 0.292615\n",
      "Cost after iteration 320: 0.289132\n",
      "Cost after iteration 330: 0.285148\n",
      "Cost after iteration 340: 0.284426\n",
      "Cost after iteration 350: 0.284015\n",
      "Cost after iteration 360: 0.283692\n",
      "Cost after iteration 370: 0.282760\n",
      "Cost after iteration 380: 0.281539\n",
      "Cost after iteration 390: 0.279283\n",
      "Cost after iteration 400: 0.275244\n",
      "Cost after iteration 410: 0.274104\n",
      "Cost after iteration 420: 0.273743\n",
      "Cost after iteration 430: 0.273821\n",
      "Cost after iteration 440: 0.310773\n",
      "Cost after iteration 450: 0.354746\n",
      "Cost after iteration 460: 0.307710\n",
      "Cost after iteration 470: 0.290590\n",
      "Cost after iteration 480: 0.280965\n",
      "Cost after iteration 490: 0.275616\n",
      "Cost after iteration 500: 0.274182\n",
      "Cost after iteration 510: 0.273382\n",
      "Cost after iteration 520: 0.273041\n",
      "Cost after iteration 530: 0.272353\n",
      "Cost after iteration 540: 0.271741\n",
      "Cost after iteration 550: 0.337424\n",
      "Cost after iteration 560: 0.355373\n",
      "Cost after iteration 570: 0.363085\n",
      "Cost after iteration 580: 0.334569\n",
      "Cost after iteration 590: 0.295922\n",
      "Cost after iteration 600: 0.291710\n",
      "Cost after iteration 610: 0.279422\n",
      "Cost after iteration 620: 0.273095\n",
      "Cost after iteration 630: 0.278090\n",
      "Cost after iteration 640: 0.324442\n",
      "Cost after iteration 650: 0.288709\n",
      "Cost after iteration 660: 0.322112\n",
      "Cost after iteration 670: 0.282469\n",
      "Cost after iteration 680: 0.282361\n",
      "Cost after iteration 690: 0.273863\n",
      "Cost after iteration 700: 0.271321\n",
      "Cost after iteration 710: 0.269217\n",
      "Cost after iteration 720: 0.267999\n",
      "Cost after iteration 730: 0.266242\n",
      "Cost after iteration 740: 0.264959\n",
      "Cost after iteration 750: 0.264555\n",
      "Cost after iteration 760: 0.263804\n",
      "Cost after iteration 770: 0.260303\n",
      "Cost after iteration 780: 0.259575\n",
      "Cost after iteration 790: 0.257875\n",
      "Cost after iteration 800: 0.257320\n",
      "Cost after iteration 810: 0.256939\n",
      "Cost after iteration 820: 0.256884\n",
      "Cost after iteration 830: 0.257566\n",
      "Cost after iteration 840: 0.272740\n",
      "Cost after iteration 850: 0.276523\n",
      "Cost after iteration 860: 0.263964\n",
      "Cost after iteration 870: 0.265298\n",
      "Cost after iteration 880: 0.259670\n",
      "Cost after iteration 890: 0.255196\n",
      "Cost after iteration 900: 0.252946\n",
      "Cost after iteration 910: 0.251570\n",
      "Cost after iteration 920: 0.250922\n",
      "Cost after iteration 930: 0.250647\n",
      "Cost after iteration 940: 0.250836\n",
      "Cost after iteration 950: 0.250239\n",
      "Cost after iteration 960: 0.255158\n",
      "Cost after iteration 970: 0.251995\n",
      "Cost after iteration 980: 0.250674\n",
      "Cost after iteration 990: 0.249765\n"
     ]
    },
    {
     "data": {
      "image/png": "[encoded data removed]",
      "text/plain": [
       "<Figure size 432x288 with 1 Axes>"
      ]
     },
     "metadata": {
      "needs_background": "light"
     },
     "output_type": "display_data"
    }
   ],
   "source": [
    "layer_dims = [12288, 24, 3]\n",
    "parameters = model(x_train, y_train, layer_dims, learning_rate = 0.8, epochs = 1000)"
   ]
  },
  {
   "cell_type": "code",
   "execution_count": 123,
   "metadata": {
    "colab": {},
    "colab_type": "code",
    "id": "J4oOLvEMV5D6"
   },
   "outputs": [],
   "source": [
    "def predict(X, y, parameters):\n",
    "    \n",
    "    predictions, caches = forwardpass(X, parameters)\n",
    "    \n",
    "    return predictions"
   ]
  },
  {
   "cell_type": "code",
   "execution_count": 124,
   "metadata": {},
   "outputs": [],
   "source": [
    "def make_pred(X ,y):\n",
    "    \n",
    "    predictions = predict(X, y, parameters)\n",
    "\n",
    "    y_hat = np.argmax(predictions, axis = 0)\n",
    "    y_label = np.argmax(y, axis = 0)\n",
    "\n",
    "    return y_hat, y_label"
   ]
  },
  {
   "cell_type": "code",
   "execution_count": 125,
   "metadata": {},
   "outputs": [
    {
     "name": "stdout",
     "output_type": "stream",
     "text": [
      "Training accuracy: 61.149425287356316 %\n"
     ]
    }
   ],
   "source": [
    "y_hat, y_label = make_pred(x_train, y_train)\n",
    "\n",
    "score = accuracy_score(y_label, y_hat)\n",
    "\n",
    "print(\"Training accuracy: \" + str(score * 100) + \" %\")"
   ]
  },
  {
   "cell_type": "code",
   "execution_count": 126,
   "metadata": {},
   "outputs": [
    {
     "name": "stdout",
     "output_type": "stream",
     "text": [
      "Training accuracy: 50.917431192660544 %\n"
     ]
    }
   ],
   "source": [
    "y_hat, y_label = make_pred(x_test, y_test)\n",
    "\n",
    "score = accuracy_score(y_label, y_hat)\n",
    "\n",
    "print(\"Training accuracy: \" + str(score * 100) + \" %\")\n"
   ]
  },
  {
   "cell_type": "code",
   "execution_count": null,
   "metadata": {},
   "outputs": [],
   "source": []
  },
  {
   "cell_type": "code",
   "execution_count": null,
   "metadata": {},
   "outputs": [],
   "source": []
  }
 ],
 "metadata": {
  "colab": {
   "authorship_tag": "ABX9TyNB/VofgpXgjOfH0NjVcG2I",
   "include_colab_link": true,
   "machine_shape": "hm",
   "name": "MNIST Softmax Classifier",
   "provenance": []
  },
  "kernelspec": {
   "display_name": "Python 3",
   "language": "python",
   "name": "python3"
  },
  "language_info": {
   "codemirror_mode": {
    "name": "ipython",
    "version": 3
   },
   "file_extension": ".py",
   "mimetype": "text/x-python",
   "name": "python",
   "nbconvert_exporter": "python",
   "pygments_lexer": "ipython3",
   "version": "3.7.3"
  }
 },
 "nbformat": 4,
 "nbformat_minor": 1
}
